{
  "nbformat": 4,
  "nbformat_minor": 0,
  "metadata": {
    "colab": {
      "provenance": [],
      "gpuType": "T4"
    },
    "kernelspec": {
      "name": "python3",
      "display_name": "Python 3"
    },
    "language_info": {
      "name": "python"
    },
    "widgets": {
      "application/vnd.jupyter.widget-state+json": {
        "7e5d0c5796614202aefab955fbefb3d6": {
          "model_module": "@jupyter-widgets/controls",
          "model_name": "HBoxModel",
          "model_module_version": "1.5.0",
          "state": {
            "_dom_classes": [],
            "_model_module": "@jupyter-widgets/controls",
            "_model_module_version": "1.5.0",
            "_model_name": "HBoxModel",
            "_view_count": null,
            "_view_module": "@jupyter-widgets/controls",
            "_view_module_version": "1.5.0",
            "_view_name": "HBoxView",
            "box_style": "",
            "children": [
              "IPY_MODEL_3b993692e49d4a3891c19b1a7550407f",
              "IPY_MODEL_285ac76ceb77457f912678ad4b9fdf75",
              "IPY_MODEL_48da7e06259f472189fe196a54867964"
            ],
            "layout": "IPY_MODEL_07919af687f54b1484cc3ab60c5ddf7d"
          }
        },
        "3b993692e49d4a3891c19b1a7550407f": {
          "model_module": "@jupyter-widgets/controls",
          "model_name": "HTMLModel",
          "model_module_version": "1.5.0",
          "state": {
            "_dom_classes": [],
            "_model_module": "@jupyter-widgets/controls",
            "_model_module_version": "1.5.0",
            "_model_name": "HTMLModel",
            "_view_count": null,
            "_view_module": "@jupyter-widgets/controls",
            "_view_module_version": "1.5.0",
            "_view_name": "HTMLView",
            "description": "",
            "description_tooltip": null,
            "layout": "IPY_MODEL_b3aef638e8ac491284a97d8c4820c440",
            "placeholder": "​",
            "style": "IPY_MODEL_67b5812624fe43f4b7a8f3d1312d7f97",
            "value": "Downloading readme: 100%"
          }
        },
        "285ac76ceb77457f912678ad4b9fdf75": {
          "model_module": "@jupyter-widgets/controls",
          "model_name": "FloatProgressModel",
          "model_module_version": "1.5.0",
          "state": {
            "_dom_classes": [],
            "_model_module": "@jupyter-widgets/controls",
            "_model_module_version": "1.5.0",
            "_model_name": "FloatProgressModel",
            "_view_count": null,
            "_view_module": "@jupyter-widgets/controls",
            "_view_module_version": "1.5.0",
            "_view_name": "ProgressView",
            "bar_style": "success",
            "description": "",
            "description_tooltip": null,
            "layout": "IPY_MODEL_8c2a9094e6ad4e6f98987e916f3a1f58",
            "max": 7809,
            "min": 0,
            "orientation": "horizontal",
            "style": "IPY_MODEL_752abdf097014861ae00bc04cff4ba5b",
            "value": 7809
          }
        },
        "48da7e06259f472189fe196a54867964": {
          "model_module": "@jupyter-widgets/controls",
          "model_name": "HTMLModel",
          "model_module_version": "1.5.0",
          "state": {
            "_dom_classes": [],
            "_model_module": "@jupyter-widgets/controls",
            "_model_module_version": "1.5.0",
            "_model_name": "HTMLModel",
            "_view_count": null,
            "_view_module": "@jupyter-widgets/controls",
            "_view_module_version": "1.5.0",
            "_view_name": "HTMLView",
            "description": "",
            "description_tooltip": null,
            "layout": "IPY_MODEL_f87e9df0da8145ca942a981caaf53645",
            "placeholder": "​",
            "style": "IPY_MODEL_5506baa2e7ee4e908187dc08b261ecec",
            "value": " 7.81k/7.81k [00:00&lt;00:00, 457kB/s]"
          }
        },
        "07919af687f54b1484cc3ab60c5ddf7d": {
          "model_module": "@jupyter-widgets/base",
          "model_name": "LayoutModel",
          "model_module_version": "1.2.0",
          "state": {
            "_model_module": "@jupyter-widgets/base",
            "_model_module_version": "1.2.0",
            "_model_name": "LayoutModel",
            "_view_count": null,
            "_view_module": "@jupyter-widgets/base",
            "_view_module_version": "1.2.0",
            "_view_name": "LayoutView",
            "align_content": null,
            "align_items": null,
            "align_self": null,
            "border": null,
            "bottom": null,
            "display": null,
            "flex": null,
            "flex_flow": null,
            "grid_area": null,
            "grid_auto_columns": null,
            "grid_auto_flow": null,
            "grid_auto_rows": null,
            "grid_column": null,
            "grid_gap": null,
            "grid_row": null,
            "grid_template_areas": null,
            "grid_template_columns": null,
            "grid_template_rows": null,
            "height": null,
            "justify_content": null,
            "justify_items": null,
            "left": null,
            "margin": null,
            "max_height": null,
            "max_width": null,
            "min_height": null,
            "min_width": null,
            "object_fit": null,
            "object_position": null,
            "order": null,
            "overflow": null,
            "overflow_x": null,
            "overflow_y": null,
            "padding": null,
            "right": null,
            "top": null,
            "visibility": null,
            "width": null
          }
        },
        "b3aef638e8ac491284a97d8c4820c440": {
          "model_module": "@jupyter-widgets/base",
          "model_name": "LayoutModel",
          "model_module_version": "1.2.0",
          "state": {
            "_model_module": "@jupyter-widgets/base",
            "_model_module_version": "1.2.0",
            "_model_name": "LayoutModel",
            "_view_count": null,
            "_view_module": "@jupyter-widgets/base",
            "_view_module_version": "1.2.0",
            "_view_name": "LayoutView",
            "align_content": null,
            "align_items": null,
            "align_self": null,
            "border": null,
            "bottom": null,
            "display": null,
            "flex": null,
            "flex_flow": null,
            "grid_area": null,
            "grid_auto_columns": null,
            "grid_auto_flow": null,
            "grid_auto_rows": null,
            "grid_column": null,
            "grid_gap": null,
            "grid_row": null,
            "grid_template_areas": null,
            "grid_template_columns": null,
            "grid_template_rows": null,
            "height": null,
            "justify_content": null,
            "justify_items": null,
            "left": null,
            "margin": null,
            "max_height": null,
            "max_width": null,
            "min_height": null,
            "min_width": null,
            "object_fit": null,
            "object_position": null,
            "order": null,
            "overflow": null,
            "overflow_x": null,
            "overflow_y": null,
            "padding": null,
            "right": null,
            "top": null,
            "visibility": null,
            "width": null
          }
        },
        "67b5812624fe43f4b7a8f3d1312d7f97": {
          "model_module": "@jupyter-widgets/controls",
          "model_name": "DescriptionStyleModel",
          "model_module_version": "1.5.0",
          "state": {
            "_model_module": "@jupyter-widgets/controls",
            "_model_module_version": "1.5.0",
            "_model_name": "DescriptionStyleModel",
            "_view_count": null,
            "_view_module": "@jupyter-widgets/base",
            "_view_module_version": "1.2.0",
            "_view_name": "StyleView",
            "description_width": ""
          }
        },
        "8c2a9094e6ad4e6f98987e916f3a1f58": {
          "model_module": "@jupyter-widgets/base",
          "model_name": "LayoutModel",
          "model_module_version": "1.2.0",
          "state": {
            "_model_module": "@jupyter-widgets/base",
            "_model_module_version": "1.2.0",
            "_model_name": "LayoutModel",
            "_view_count": null,
            "_view_module": "@jupyter-widgets/base",
            "_view_module_version": "1.2.0",
            "_view_name": "LayoutView",
            "align_content": null,
            "align_items": null,
            "align_self": null,
            "border": null,
            "bottom": null,
            "display": null,
            "flex": null,
            "flex_flow": null,
            "grid_area": null,
            "grid_auto_columns": null,
            "grid_auto_flow": null,
            "grid_auto_rows": null,
            "grid_column": null,
            "grid_gap": null,
            "grid_row": null,
            "grid_template_areas": null,
            "grid_template_columns": null,
            "grid_template_rows": null,
            "height": null,
            "justify_content": null,
            "justify_items": null,
            "left": null,
            "margin": null,
            "max_height": null,
            "max_width": null,
            "min_height": null,
            "min_width": null,
            "object_fit": null,
            "object_position": null,
            "order": null,
            "overflow": null,
            "overflow_x": null,
            "overflow_y": null,
            "padding": null,
            "right": null,
            "top": null,
            "visibility": null,
            "width": null
          }
        },
        "752abdf097014861ae00bc04cff4ba5b": {
          "model_module": "@jupyter-widgets/controls",
          "model_name": "ProgressStyleModel",
          "model_module_version": "1.5.0",
          "state": {
            "_model_module": "@jupyter-widgets/controls",
            "_model_module_version": "1.5.0",
            "_model_name": "ProgressStyleModel",
            "_view_count": null,
            "_view_module": "@jupyter-widgets/base",
            "_view_module_version": "1.2.0",
            "_view_name": "StyleView",
            "bar_color": null,
            "description_width": ""
          }
        },
        "f87e9df0da8145ca942a981caaf53645": {
          "model_module": "@jupyter-widgets/base",
          "model_name": "LayoutModel",
          "model_module_version": "1.2.0",
          "state": {
            "_model_module": "@jupyter-widgets/base",
            "_model_module_version": "1.2.0",
            "_model_name": "LayoutModel",
            "_view_count": null,
            "_view_module": "@jupyter-widgets/base",
            "_view_module_version": "1.2.0",
            "_view_name": "LayoutView",
            "align_content": null,
            "align_items": null,
            "align_self": null,
            "border": null,
            "bottom": null,
            "display": null,
            "flex": null,
            "flex_flow": null,
            "grid_area": null,
            "grid_auto_columns": null,
            "grid_auto_flow": null,
            "grid_auto_rows": null,
            "grid_column": null,
            "grid_gap": null,
            "grid_row": null,
            "grid_template_areas": null,
            "grid_template_columns": null,
            "grid_template_rows": null,
            "height": null,
            "justify_content": null,
            "justify_items": null,
            "left": null,
            "margin": null,
            "max_height": null,
            "max_width": null,
            "min_height": null,
            "min_width": null,
            "object_fit": null,
            "object_position": null,
            "order": null,
            "overflow": null,
            "overflow_x": null,
            "overflow_y": null,
            "padding": null,
            "right": null,
            "top": null,
            "visibility": null,
            "width": null
          }
        },
        "5506baa2e7ee4e908187dc08b261ecec": {
          "model_module": "@jupyter-widgets/controls",
          "model_name": "DescriptionStyleModel",
          "model_module_version": "1.5.0",
          "state": {
            "_model_module": "@jupyter-widgets/controls",
            "_model_module_version": "1.5.0",
            "_model_name": "DescriptionStyleModel",
            "_view_count": null,
            "_view_module": "@jupyter-widgets/base",
            "_view_module_version": "1.2.0",
            "_view_name": "StyleView",
            "description_width": ""
          }
        },
        "b542509c66094640b2a13b2ea8c4d2c1": {
          "model_module": "@jupyter-widgets/controls",
          "model_name": "HBoxModel",
          "model_module_version": "1.5.0",
          "state": {
            "_dom_classes": [],
            "_model_module": "@jupyter-widgets/controls",
            "_model_module_version": "1.5.0",
            "_model_name": "HBoxModel",
            "_view_count": null,
            "_view_module": "@jupyter-widgets/controls",
            "_view_module_version": "1.5.0",
            "_view_name": "HBoxView",
            "box_style": "",
            "children": [
              "IPY_MODEL_2e5ad317f4f34334bb4182f2dceb4ec6",
              "IPY_MODEL_cc373869478142088d324796cc5746b6",
              "IPY_MODEL_70dce0c2bb7448ad82d9e6c43e4e73a0"
            ],
            "layout": "IPY_MODEL_5e3ddcb87e9746e28edf2bfa7e1f03b1"
          }
        },
        "2e5ad317f4f34334bb4182f2dceb4ec6": {
          "model_module": "@jupyter-widgets/controls",
          "model_name": "HTMLModel",
          "model_module_version": "1.5.0",
          "state": {
            "_dom_classes": [],
            "_model_module": "@jupyter-widgets/controls",
            "_model_module_version": "1.5.0",
            "_model_name": "HTMLModel",
            "_view_count": null,
            "_view_module": "@jupyter-widgets/controls",
            "_view_module_version": "1.5.0",
            "_view_name": "HTMLView",
            "description": "",
            "description_tooltip": null,
            "layout": "IPY_MODEL_a30bb25559ca48d5ac6694db3d2670a9",
            "placeholder": "​",
            "style": "IPY_MODEL_3e37e71da8c74f17bc8581478f37016b",
            "value": "Downloading data: 100%"
          }
        },
        "cc373869478142088d324796cc5746b6": {
          "model_module": "@jupyter-widgets/controls",
          "model_name": "FloatProgressModel",
          "model_module_version": "1.5.0",
          "state": {
            "_dom_classes": [],
            "_model_module": "@jupyter-widgets/controls",
            "_model_module_version": "1.5.0",
            "_model_name": "FloatProgressModel",
            "_view_count": null,
            "_view_module": "@jupyter-widgets/controls",
            "_view_module_version": "1.5.0",
            "_view_name": "ProgressView",
            "bar_style": "success",
            "description": "",
            "description_tooltip": null,
            "layout": "IPY_MODEL_d1d2b74abb914c22ad1f1b2561955168",
            "max": 20979968,
            "min": 0,
            "orientation": "horizontal",
            "style": "IPY_MODEL_2a14a65ffd2345d88647932fee1324cf",
            "value": 20979968
          }
        },
        "70dce0c2bb7448ad82d9e6c43e4e73a0": {
          "model_module": "@jupyter-widgets/controls",
          "model_name": "HTMLModel",
          "model_module_version": "1.5.0",
          "state": {
            "_dom_classes": [],
            "_model_module": "@jupyter-widgets/controls",
            "_model_module_version": "1.5.0",
            "_model_name": "HTMLModel",
            "_view_count": null,
            "_view_module": "@jupyter-widgets/controls",
            "_view_module_version": "1.5.0",
            "_view_name": "HTMLView",
            "description": "",
            "description_tooltip": null,
            "layout": "IPY_MODEL_5df90f69e80948a582e7e1379a14590a",
            "placeholder": "​",
            "style": "IPY_MODEL_2332e6d7c5b84952bfde0a82b60fc670",
            "value": " 21.0M/21.0M [00:00&lt;00:00, 32.5MB/s]"
          }
        },
        "5e3ddcb87e9746e28edf2bfa7e1f03b1": {
          "model_module": "@jupyter-widgets/base",
          "model_name": "LayoutModel",
          "model_module_version": "1.2.0",
          "state": {
            "_model_module": "@jupyter-widgets/base",
            "_model_module_version": "1.2.0",
            "_model_name": "LayoutModel",
            "_view_count": null,
            "_view_module": "@jupyter-widgets/base",
            "_view_module_version": "1.2.0",
            "_view_name": "LayoutView",
            "align_content": null,
            "align_items": null,
            "align_self": null,
            "border": null,
            "bottom": null,
            "display": null,
            "flex": null,
            "flex_flow": null,
            "grid_area": null,
            "grid_auto_columns": null,
            "grid_auto_flow": null,
            "grid_auto_rows": null,
            "grid_column": null,
            "grid_gap": null,
            "grid_row": null,
            "grid_template_areas": null,
            "grid_template_columns": null,
            "grid_template_rows": null,
            "height": null,
            "justify_content": null,
            "justify_items": null,
            "left": null,
            "margin": null,
            "max_height": null,
            "max_width": null,
            "min_height": null,
            "min_width": null,
            "object_fit": null,
            "object_position": null,
            "order": null,
            "overflow": null,
            "overflow_x": null,
            "overflow_y": null,
            "padding": null,
            "right": null,
            "top": null,
            "visibility": null,
            "width": null
          }
        },
        "a30bb25559ca48d5ac6694db3d2670a9": {
          "model_module": "@jupyter-widgets/base",
          "model_name": "LayoutModel",
          "model_module_version": "1.2.0",
          "state": {
            "_model_module": "@jupyter-widgets/base",
            "_model_module_version": "1.2.0",
            "_model_name": "LayoutModel",
            "_view_count": null,
            "_view_module": "@jupyter-widgets/base",
            "_view_module_version": "1.2.0",
            "_view_name": "LayoutView",
            "align_content": null,
            "align_items": null,
            "align_self": null,
            "border": null,
            "bottom": null,
            "display": null,
            "flex": null,
            "flex_flow": null,
            "grid_area": null,
            "grid_auto_columns": null,
            "grid_auto_flow": null,
            "grid_auto_rows": null,
            "grid_column": null,
            "grid_gap": null,
            "grid_row": null,
            "grid_template_areas": null,
            "grid_template_columns": null,
            "grid_template_rows": null,
            "height": null,
            "justify_content": null,
            "justify_items": null,
            "left": null,
            "margin": null,
            "max_height": null,
            "max_width": null,
            "min_height": null,
            "min_width": null,
            "object_fit": null,
            "object_position": null,
            "order": null,
            "overflow": null,
            "overflow_x": null,
            "overflow_y": null,
            "padding": null,
            "right": null,
            "top": null,
            "visibility": null,
            "width": null
          }
        },
        "3e37e71da8c74f17bc8581478f37016b": {
          "model_module": "@jupyter-widgets/controls",
          "model_name": "DescriptionStyleModel",
          "model_module_version": "1.5.0",
          "state": {
            "_model_module": "@jupyter-widgets/controls",
            "_model_module_version": "1.5.0",
            "_model_name": "DescriptionStyleModel",
            "_view_count": null,
            "_view_module": "@jupyter-widgets/base",
            "_view_module_version": "1.2.0",
            "_view_name": "StyleView",
            "description_width": ""
          }
        },
        "d1d2b74abb914c22ad1f1b2561955168": {
          "model_module": "@jupyter-widgets/base",
          "model_name": "LayoutModel",
          "model_module_version": "1.2.0",
          "state": {
            "_model_module": "@jupyter-widgets/base",
            "_model_module_version": "1.2.0",
            "_model_name": "LayoutModel",
            "_view_count": null,
            "_view_module": "@jupyter-widgets/base",
            "_view_module_version": "1.2.0",
            "_view_name": "LayoutView",
            "align_content": null,
            "align_items": null,
            "align_self": null,
            "border": null,
            "bottom": null,
            "display": null,
            "flex": null,
            "flex_flow": null,
            "grid_area": null,
            "grid_auto_columns": null,
            "grid_auto_flow": null,
            "grid_auto_rows": null,
            "grid_column": null,
            "grid_gap": null,
            "grid_row": null,
            "grid_template_areas": null,
            "grid_template_columns": null,
            "grid_template_rows": null,
            "height": null,
            "justify_content": null,
            "justify_items": null,
            "left": null,
            "margin": null,
            "max_height": null,
            "max_width": null,
            "min_height": null,
            "min_width": null,
            "object_fit": null,
            "object_position": null,
            "order": null,
            "overflow": null,
            "overflow_x": null,
            "overflow_y": null,
            "padding": null,
            "right": null,
            "top": null,
            "visibility": null,
            "width": null
          }
        },
        "2a14a65ffd2345d88647932fee1324cf": {
          "model_module": "@jupyter-widgets/controls",
          "model_name": "ProgressStyleModel",
          "model_module_version": "1.5.0",
          "state": {
            "_model_module": "@jupyter-widgets/controls",
            "_model_module_version": "1.5.0",
            "_model_name": "ProgressStyleModel",
            "_view_count": null,
            "_view_module": "@jupyter-widgets/base",
            "_view_module_version": "1.2.0",
            "_view_name": "StyleView",
            "bar_color": null,
            "description_width": ""
          }
        },
        "5df90f69e80948a582e7e1379a14590a": {
          "model_module": "@jupyter-widgets/base",
          "model_name": "LayoutModel",
          "model_module_version": "1.2.0",
          "state": {
            "_model_module": "@jupyter-widgets/base",
            "_model_module_version": "1.2.0",
            "_model_name": "LayoutModel",
            "_view_count": null,
            "_view_module": "@jupyter-widgets/base",
            "_view_module_version": "1.2.0",
            "_view_name": "LayoutView",
            "align_content": null,
            "align_items": null,
            "align_self": null,
            "border": null,
            "bottom": null,
            "display": null,
            "flex": null,
            "flex_flow": null,
            "grid_area": null,
            "grid_auto_columns": null,
            "grid_auto_flow": null,
            "grid_auto_rows": null,
            "grid_column": null,
            "grid_gap": null,
            "grid_row": null,
            "grid_template_areas": null,
            "grid_template_columns": null,
            "grid_template_rows": null,
            "height": null,
            "justify_content": null,
            "justify_items": null,
            "left": null,
            "margin": null,
            "max_height": null,
            "max_width": null,
            "min_height": null,
            "min_width": null,
            "object_fit": null,
            "object_position": null,
            "order": null,
            "overflow": null,
            "overflow_x": null,
            "overflow_y": null,
            "padding": null,
            "right": null,
            "top": null,
            "visibility": null,
            "width": null
          }
        },
        "2332e6d7c5b84952bfde0a82b60fc670": {
          "model_module": "@jupyter-widgets/controls",
          "model_name": "DescriptionStyleModel",
          "model_module_version": "1.5.0",
          "state": {
            "_model_module": "@jupyter-widgets/controls",
            "_model_module_version": "1.5.0",
            "_model_name": "DescriptionStyleModel",
            "_view_count": null,
            "_view_module": "@jupyter-widgets/base",
            "_view_module_version": "1.2.0",
            "_view_name": "StyleView",
            "description_width": ""
          }
        },
        "3da38c5460e54c6e9b57b0231616f430": {
          "model_module": "@jupyter-widgets/controls",
          "model_name": "HBoxModel",
          "model_module_version": "1.5.0",
          "state": {
            "_dom_classes": [],
            "_model_module": "@jupyter-widgets/controls",
            "_model_module_version": "1.5.0",
            "_model_name": "HBoxModel",
            "_view_count": null,
            "_view_module": "@jupyter-widgets/controls",
            "_view_module_version": "1.5.0",
            "_view_name": "HBoxView",
            "box_style": "",
            "children": [
              "IPY_MODEL_7f194254b0ab440fba4648fd75e620c1",
              "IPY_MODEL_587e5db10512415986a5d20cf8e7a8d4",
              "IPY_MODEL_d0187671bbbb4b0ab31221d6ab81fc3f"
            ],
            "layout": "IPY_MODEL_cb522877797747209532ee4e0fed0a12"
          }
        },
        "7f194254b0ab440fba4648fd75e620c1": {
          "model_module": "@jupyter-widgets/controls",
          "model_name": "HTMLModel",
          "model_module_version": "1.5.0",
          "state": {
            "_dom_classes": [],
            "_model_module": "@jupyter-widgets/controls",
            "_model_module_version": "1.5.0",
            "_model_name": "HTMLModel",
            "_view_count": null,
            "_view_module": "@jupyter-widgets/controls",
            "_view_module_version": "1.5.0",
            "_view_name": "HTMLView",
            "description": "",
            "description_tooltip": null,
            "layout": "IPY_MODEL_6ea05bd898b34c79a9587fbd9223b516",
            "placeholder": "​",
            "style": "IPY_MODEL_4d7ad577172f4a99bb7f266639c532ef",
            "value": "Downloading data: 100%"
          }
        },
        "587e5db10512415986a5d20cf8e7a8d4": {
          "model_module": "@jupyter-widgets/controls",
          "model_name": "FloatProgressModel",
          "model_module_version": "1.5.0",
          "state": {
            "_dom_classes": [],
            "_model_module": "@jupyter-widgets/controls",
            "_model_module_version": "1.5.0",
            "_model_name": "FloatProgressModel",
            "_view_count": null,
            "_view_module": "@jupyter-widgets/controls",
            "_view_module_version": "1.5.0",
            "_view_name": "ProgressView",
            "bar_style": "success",
            "description": "",
            "description_tooltip": null,
            "layout": "IPY_MODEL_52e01bda952e4d13aab2cdf5e440ef8b",
            "max": 20470363,
            "min": 0,
            "orientation": "horizontal",
            "style": "IPY_MODEL_8988a2f4be6a45f7a502f59c0c7450a1",
            "value": 20470363
          }
        },
        "d0187671bbbb4b0ab31221d6ab81fc3f": {
          "model_module": "@jupyter-widgets/controls",
          "model_name": "HTMLModel",
          "model_module_version": "1.5.0",
          "state": {
            "_dom_classes": [],
            "_model_module": "@jupyter-widgets/controls",
            "_model_module_version": "1.5.0",
            "_model_name": "HTMLModel",
            "_view_count": null,
            "_view_module": "@jupyter-widgets/controls",
            "_view_module_version": "1.5.0",
            "_view_name": "HTMLView",
            "description": "",
            "description_tooltip": null,
            "layout": "IPY_MODEL_f9480af1afb54ae4bfc8310a9dddde0e",
            "placeholder": "​",
            "style": "IPY_MODEL_6462003e0c6044379916fad55773c3a6",
            "value": " 20.5M/20.5M [00:01&lt;00:00, 16.6MB/s]"
          }
        },
        "cb522877797747209532ee4e0fed0a12": {
          "model_module": "@jupyter-widgets/base",
          "model_name": "LayoutModel",
          "model_module_version": "1.2.0",
          "state": {
            "_model_module": "@jupyter-widgets/base",
            "_model_module_version": "1.2.0",
            "_model_name": "LayoutModel",
            "_view_count": null,
            "_view_module": "@jupyter-widgets/base",
            "_view_module_version": "1.2.0",
            "_view_name": "LayoutView",
            "align_content": null,
            "align_items": null,
            "align_self": null,
            "border": null,
            "bottom": null,
            "display": null,
            "flex": null,
            "flex_flow": null,
            "grid_area": null,
            "grid_auto_columns": null,
            "grid_auto_flow": null,
            "grid_auto_rows": null,
            "grid_column": null,
            "grid_gap": null,
            "grid_row": null,
            "grid_template_areas": null,
            "grid_template_columns": null,
            "grid_template_rows": null,
            "height": null,
            "justify_content": null,
            "justify_items": null,
            "left": null,
            "margin": null,
            "max_height": null,
            "max_width": null,
            "min_height": null,
            "min_width": null,
            "object_fit": null,
            "object_position": null,
            "order": null,
            "overflow": null,
            "overflow_x": null,
            "overflow_y": null,
            "padding": null,
            "right": null,
            "top": null,
            "visibility": null,
            "width": null
          }
        },
        "6ea05bd898b34c79a9587fbd9223b516": {
          "model_module": "@jupyter-widgets/base",
          "model_name": "LayoutModel",
          "model_module_version": "1.2.0",
          "state": {
            "_model_module": "@jupyter-widgets/base",
            "_model_module_version": "1.2.0",
            "_model_name": "LayoutModel",
            "_view_count": null,
            "_view_module": "@jupyter-widgets/base",
            "_view_module_version": "1.2.0",
            "_view_name": "LayoutView",
            "align_content": null,
            "align_items": null,
            "align_self": null,
            "border": null,
            "bottom": null,
            "display": null,
            "flex": null,
            "flex_flow": null,
            "grid_area": null,
            "grid_auto_columns": null,
            "grid_auto_flow": null,
            "grid_auto_rows": null,
            "grid_column": null,
            "grid_gap": null,
            "grid_row": null,
            "grid_template_areas": null,
            "grid_template_columns": null,
            "grid_template_rows": null,
            "height": null,
            "justify_content": null,
            "justify_items": null,
            "left": null,
            "margin": null,
            "max_height": null,
            "max_width": null,
            "min_height": null,
            "min_width": null,
            "object_fit": null,
            "object_position": null,
            "order": null,
            "overflow": null,
            "overflow_x": null,
            "overflow_y": null,
            "padding": null,
            "right": null,
            "top": null,
            "visibility": null,
            "width": null
          }
        },
        "4d7ad577172f4a99bb7f266639c532ef": {
          "model_module": "@jupyter-widgets/controls",
          "model_name": "DescriptionStyleModel",
          "model_module_version": "1.5.0",
          "state": {
            "_model_module": "@jupyter-widgets/controls",
            "_model_module_version": "1.5.0",
            "_model_name": "DescriptionStyleModel",
            "_view_count": null,
            "_view_module": "@jupyter-widgets/base",
            "_view_module_version": "1.2.0",
            "_view_name": "StyleView",
            "description_width": ""
          }
        },
        "52e01bda952e4d13aab2cdf5e440ef8b": {
          "model_module": "@jupyter-widgets/base",
          "model_name": "LayoutModel",
          "model_module_version": "1.2.0",
          "state": {
            "_model_module": "@jupyter-widgets/base",
            "_model_module_version": "1.2.0",
            "_model_name": "LayoutModel",
            "_view_count": null,
            "_view_module": "@jupyter-widgets/base",
            "_view_module_version": "1.2.0",
            "_view_name": "LayoutView",
            "align_content": null,
            "align_items": null,
            "align_self": null,
            "border": null,
            "bottom": null,
            "display": null,
            "flex": null,
            "flex_flow": null,
            "grid_area": null,
            "grid_auto_columns": null,
            "grid_auto_flow": null,
            "grid_auto_rows": null,
            "grid_column": null,
            "grid_gap": null,
            "grid_row": null,
            "grid_template_areas": null,
            "grid_template_columns": null,
            "grid_template_rows": null,
            "height": null,
            "justify_content": null,
            "justify_items": null,
            "left": null,
            "margin": null,
            "max_height": null,
            "max_width": null,
            "min_height": null,
            "min_width": null,
            "object_fit": null,
            "object_position": null,
            "order": null,
            "overflow": null,
            "overflow_x": null,
            "overflow_y": null,
            "padding": null,
            "right": null,
            "top": null,
            "visibility": null,
            "width": null
          }
        },
        "8988a2f4be6a45f7a502f59c0c7450a1": {
          "model_module": "@jupyter-widgets/controls",
          "model_name": "ProgressStyleModel",
          "model_module_version": "1.5.0",
          "state": {
            "_model_module": "@jupyter-widgets/controls",
            "_model_module_version": "1.5.0",
            "_model_name": "ProgressStyleModel",
            "_view_count": null,
            "_view_module": "@jupyter-widgets/base",
            "_view_module_version": "1.2.0",
            "_view_name": "StyleView",
            "bar_color": null,
            "description_width": ""
          }
        },
        "f9480af1afb54ae4bfc8310a9dddde0e": {
          "model_module": "@jupyter-widgets/base",
          "model_name": "LayoutModel",
          "model_module_version": "1.2.0",
          "state": {
            "_model_module": "@jupyter-widgets/base",
            "_model_module_version": "1.2.0",
            "_model_name": "LayoutModel",
            "_view_count": null,
            "_view_module": "@jupyter-widgets/base",
            "_view_module_version": "1.2.0",
            "_view_name": "LayoutView",
            "align_content": null,
            "align_items": null,
            "align_self": null,
            "border": null,
            "bottom": null,
            "display": null,
            "flex": null,
            "flex_flow": null,
            "grid_area": null,
            "grid_auto_columns": null,
            "grid_auto_flow": null,
            "grid_auto_rows": null,
            "grid_column": null,
            "grid_gap": null,
            "grid_row": null,
            "grid_template_areas": null,
            "grid_template_columns": null,
            "grid_template_rows": null,
            "height": null,
            "justify_content": null,
            "justify_items": null,
            "left": null,
            "margin": null,
            "max_height": null,
            "max_width": null,
            "min_height": null,
            "min_width": null,
            "object_fit": null,
            "object_position": null,
            "order": null,
            "overflow": null,
            "overflow_x": null,
            "overflow_y": null,
            "padding": null,
            "right": null,
            "top": null,
            "visibility": null,
            "width": null
          }
        },
        "6462003e0c6044379916fad55773c3a6": {
          "model_module": "@jupyter-widgets/controls",
          "model_name": "DescriptionStyleModel",
          "model_module_version": "1.5.0",
          "state": {
            "_model_module": "@jupyter-widgets/controls",
            "_model_module_version": "1.5.0",
            "_model_name": "DescriptionStyleModel",
            "_view_count": null,
            "_view_module": "@jupyter-widgets/base",
            "_view_module_version": "1.2.0",
            "_view_name": "StyleView",
            "description_width": ""
          }
        },
        "37e6a6d5fda84349873875556a1aa016": {
          "model_module": "@jupyter-widgets/controls",
          "model_name": "HBoxModel",
          "model_module_version": "1.5.0",
          "state": {
            "_dom_classes": [],
            "_model_module": "@jupyter-widgets/controls",
            "_model_module_version": "1.5.0",
            "_model_name": "HBoxModel",
            "_view_count": null,
            "_view_module": "@jupyter-widgets/controls",
            "_view_module_version": "1.5.0",
            "_view_name": "HBoxView",
            "box_style": "",
            "children": [
              "IPY_MODEL_f1391e88dc4442c4a066753015fb5410",
              "IPY_MODEL_e6edab56b15e42469f0afac2866c9a17",
              "IPY_MODEL_2a58eb2b258f48c09c1d61fd385aaad9"
            ],
            "layout": "IPY_MODEL_bf88f407ef15435cb8a40aec14f8f7b7"
          }
        },
        "f1391e88dc4442c4a066753015fb5410": {
          "model_module": "@jupyter-widgets/controls",
          "model_name": "HTMLModel",
          "model_module_version": "1.5.0",
          "state": {
            "_dom_classes": [],
            "_model_module": "@jupyter-widgets/controls",
            "_model_module_version": "1.5.0",
            "_model_name": "HTMLModel",
            "_view_count": null,
            "_view_module": "@jupyter-widgets/controls",
            "_view_module_version": "1.5.0",
            "_view_name": "HTMLView",
            "description": "",
            "description_tooltip": null,
            "layout": "IPY_MODEL_732abc3b824e44a988c1b36256034a5d",
            "placeholder": "​",
            "style": "IPY_MODEL_6af15c58fca24341b6be904ad2b3e24d",
            "value": "Downloading data: 100%"
          }
        },
        "e6edab56b15e42469f0afac2866c9a17": {
          "model_module": "@jupyter-widgets/controls",
          "model_name": "FloatProgressModel",
          "model_module_version": "1.5.0",
          "state": {
            "_dom_classes": [],
            "_model_module": "@jupyter-widgets/controls",
            "_model_module_version": "1.5.0",
            "_model_name": "FloatProgressModel",
            "_view_count": null,
            "_view_module": "@jupyter-widgets/controls",
            "_view_module_version": "1.5.0",
            "_view_name": "ProgressView",
            "bar_style": "success",
            "description": "",
            "description_tooltip": null,
            "layout": "IPY_MODEL_2aba0deb650048fb8952f63d32026918",
            "max": 41996509,
            "min": 0,
            "orientation": "horizontal",
            "style": "IPY_MODEL_f6facabe60b5410db11b3ba07db3f6db",
            "value": 41996509
          }
        },
        "2a58eb2b258f48c09c1d61fd385aaad9": {
          "model_module": "@jupyter-widgets/controls",
          "model_name": "HTMLModel",
          "model_module_version": "1.5.0",
          "state": {
            "_dom_classes": [],
            "_model_module": "@jupyter-widgets/controls",
            "_model_module_version": "1.5.0",
            "_model_name": "HTMLModel",
            "_view_count": null,
            "_view_module": "@jupyter-widgets/controls",
            "_view_module_version": "1.5.0",
            "_view_name": "HTMLView",
            "description": "",
            "description_tooltip": null,
            "layout": "IPY_MODEL_0133b560bd4546d1ba7e40c9652f4acd",
            "placeholder": "​",
            "style": "IPY_MODEL_3fe8c4141ed44046b069a398639d5620",
            "value": " 42.0M/42.0M [00:01&lt;00:00, 26.4MB/s]"
          }
        },
        "bf88f407ef15435cb8a40aec14f8f7b7": {
          "model_module": "@jupyter-widgets/base",
          "model_name": "LayoutModel",
          "model_module_version": "1.2.0",
          "state": {
            "_model_module": "@jupyter-widgets/base",
            "_model_module_version": "1.2.0",
            "_model_name": "LayoutModel",
            "_view_count": null,
            "_view_module": "@jupyter-widgets/base",
            "_view_module_version": "1.2.0",
            "_view_name": "LayoutView",
            "align_content": null,
            "align_items": null,
            "align_self": null,
            "border": null,
            "bottom": null,
            "display": null,
            "flex": null,
            "flex_flow": null,
            "grid_area": null,
            "grid_auto_columns": null,
            "grid_auto_flow": null,
            "grid_auto_rows": null,
            "grid_column": null,
            "grid_gap": null,
            "grid_row": null,
            "grid_template_areas": null,
            "grid_template_columns": null,
            "grid_template_rows": null,
            "height": null,
            "justify_content": null,
            "justify_items": null,
            "left": null,
            "margin": null,
            "max_height": null,
            "max_width": null,
            "min_height": null,
            "min_width": null,
            "object_fit": null,
            "object_position": null,
            "order": null,
            "overflow": null,
            "overflow_x": null,
            "overflow_y": null,
            "padding": null,
            "right": null,
            "top": null,
            "visibility": null,
            "width": null
          }
        },
        "732abc3b824e44a988c1b36256034a5d": {
          "model_module": "@jupyter-widgets/base",
          "model_name": "LayoutModel",
          "model_module_version": "1.2.0",
          "state": {
            "_model_module": "@jupyter-widgets/base",
            "_model_module_version": "1.2.0",
            "_model_name": "LayoutModel",
            "_view_count": null,
            "_view_module": "@jupyter-widgets/base",
            "_view_module_version": "1.2.0",
            "_view_name": "LayoutView",
            "align_content": null,
            "align_items": null,
            "align_self": null,
            "border": null,
            "bottom": null,
            "display": null,
            "flex": null,
            "flex_flow": null,
            "grid_area": null,
            "grid_auto_columns": null,
            "grid_auto_flow": null,
            "grid_auto_rows": null,
            "grid_column": null,
            "grid_gap": null,
            "grid_row": null,
            "grid_template_areas": null,
            "grid_template_columns": null,
            "grid_template_rows": null,
            "height": null,
            "justify_content": null,
            "justify_items": null,
            "left": null,
            "margin": null,
            "max_height": null,
            "max_width": null,
            "min_height": null,
            "min_width": null,
            "object_fit": null,
            "object_position": null,
            "order": null,
            "overflow": null,
            "overflow_x": null,
            "overflow_y": null,
            "padding": null,
            "right": null,
            "top": null,
            "visibility": null,
            "width": null
          }
        },
        "6af15c58fca24341b6be904ad2b3e24d": {
          "model_module": "@jupyter-widgets/controls",
          "model_name": "DescriptionStyleModel",
          "model_module_version": "1.5.0",
          "state": {
            "_model_module": "@jupyter-widgets/controls",
            "_model_module_version": "1.5.0",
            "_model_name": "DescriptionStyleModel",
            "_view_count": null,
            "_view_module": "@jupyter-widgets/base",
            "_view_module_version": "1.2.0",
            "_view_name": "StyleView",
            "description_width": ""
          }
        },
        "2aba0deb650048fb8952f63d32026918": {
          "model_module": "@jupyter-widgets/base",
          "model_name": "LayoutModel",
          "model_module_version": "1.2.0",
          "state": {
            "_model_module": "@jupyter-widgets/base",
            "_model_module_version": "1.2.0",
            "_model_name": "LayoutModel",
            "_view_count": null,
            "_view_module": "@jupyter-widgets/base",
            "_view_module_version": "1.2.0",
            "_view_name": "LayoutView",
            "align_content": null,
            "align_items": null,
            "align_self": null,
            "border": null,
            "bottom": null,
            "display": null,
            "flex": null,
            "flex_flow": null,
            "grid_area": null,
            "grid_auto_columns": null,
            "grid_auto_flow": null,
            "grid_auto_rows": null,
            "grid_column": null,
            "grid_gap": null,
            "grid_row": null,
            "grid_template_areas": null,
            "grid_template_columns": null,
            "grid_template_rows": null,
            "height": null,
            "justify_content": null,
            "justify_items": null,
            "left": null,
            "margin": null,
            "max_height": null,
            "max_width": null,
            "min_height": null,
            "min_width": null,
            "object_fit": null,
            "object_position": null,
            "order": null,
            "overflow": null,
            "overflow_x": null,
            "overflow_y": null,
            "padding": null,
            "right": null,
            "top": null,
            "visibility": null,
            "width": null
          }
        },
        "f6facabe60b5410db11b3ba07db3f6db": {
          "model_module": "@jupyter-widgets/controls",
          "model_name": "ProgressStyleModel",
          "model_module_version": "1.5.0",
          "state": {
            "_model_module": "@jupyter-widgets/controls",
            "_model_module_version": "1.5.0",
            "_model_name": "ProgressStyleModel",
            "_view_count": null,
            "_view_module": "@jupyter-widgets/base",
            "_view_module_version": "1.2.0",
            "_view_name": "StyleView",
            "bar_color": null,
            "description_width": ""
          }
        },
        "0133b560bd4546d1ba7e40c9652f4acd": {
          "model_module": "@jupyter-widgets/base",
          "model_name": "LayoutModel",
          "model_module_version": "1.2.0",
          "state": {
            "_model_module": "@jupyter-widgets/base",
            "_model_module_version": "1.2.0",
            "_model_name": "LayoutModel",
            "_view_count": null,
            "_view_module": "@jupyter-widgets/base",
            "_view_module_version": "1.2.0",
            "_view_name": "LayoutView",
            "align_content": null,
            "align_items": null,
            "align_self": null,
            "border": null,
            "bottom": null,
            "display": null,
            "flex": null,
            "flex_flow": null,
            "grid_area": null,
            "grid_auto_columns": null,
            "grid_auto_flow": null,
            "grid_auto_rows": null,
            "grid_column": null,
            "grid_gap": null,
            "grid_row": null,
            "grid_template_areas": null,
            "grid_template_columns": null,
            "grid_template_rows": null,
            "height": null,
            "justify_content": null,
            "justify_items": null,
            "left": null,
            "margin": null,
            "max_height": null,
            "max_width": null,
            "min_height": null,
            "min_width": null,
            "object_fit": null,
            "object_position": null,
            "order": null,
            "overflow": null,
            "overflow_x": null,
            "overflow_y": null,
            "padding": null,
            "right": null,
            "top": null,
            "visibility": null,
            "width": null
          }
        },
        "3fe8c4141ed44046b069a398639d5620": {
          "model_module": "@jupyter-widgets/controls",
          "model_name": "DescriptionStyleModel",
          "model_module_version": "1.5.0",
          "state": {
            "_model_module": "@jupyter-widgets/controls",
            "_model_module_version": "1.5.0",
            "_model_name": "DescriptionStyleModel",
            "_view_count": null,
            "_view_module": "@jupyter-widgets/base",
            "_view_module_version": "1.2.0",
            "_view_name": "StyleView",
            "description_width": ""
          }
        },
        "58289ad6ff824186a135c83376b4a0de": {
          "model_module": "@jupyter-widgets/controls",
          "model_name": "HBoxModel",
          "model_module_version": "1.5.0",
          "state": {
            "_dom_classes": [],
            "_model_module": "@jupyter-widgets/controls",
            "_model_module_version": "1.5.0",
            "_model_name": "HBoxModel",
            "_view_count": null,
            "_view_module": "@jupyter-widgets/controls",
            "_view_module_version": "1.5.0",
            "_view_name": "HBoxView",
            "box_style": "",
            "children": [
              "IPY_MODEL_830adcd00ed442ea94d5d1d0e92bd338",
              "IPY_MODEL_7cb9b4ab4b4840239828c5accc6756aa",
              "IPY_MODEL_3a9cec3b31f943fdb8fccb6a71c94d66"
            ],
            "layout": "IPY_MODEL_ba4685d70e1448069d38d653d53eab15"
          }
        },
        "830adcd00ed442ea94d5d1d0e92bd338": {
          "model_module": "@jupyter-widgets/controls",
          "model_name": "HTMLModel",
          "model_module_version": "1.5.0",
          "state": {
            "_dom_classes": [],
            "_model_module": "@jupyter-widgets/controls",
            "_model_module_version": "1.5.0",
            "_model_name": "HTMLModel",
            "_view_count": null,
            "_view_module": "@jupyter-widgets/controls",
            "_view_module_version": "1.5.0",
            "_view_name": "HTMLView",
            "description": "",
            "description_tooltip": null,
            "layout": "IPY_MODEL_9b8f0dc259da400b9cdabe3e15c1da24",
            "placeholder": "​",
            "style": "IPY_MODEL_7025dd2599894c2bb842c970e6588cb2",
            "value": "Generating train split: 100%"
          }
        },
        "7cb9b4ab4b4840239828c5accc6756aa": {
          "model_module": "@jupyter-widgets/controls",
          "model_name": "FloatProgressModel",
          "model_module_version": "1.5.0",
          "state": {
            "_dom_classes": [],
            "_model_module": "@jupyter-widgets/controls",
            "_model_module_version": "1.5.0",
            "_model_name": "FloatProgressModel",
            "_view_count": null,
            "_view_module": "@jupyter-widgets/controls",
            "_view_module_version": "1.5.0",
            "_view_name": "ProgressView",
            "bar_style": "success",
            "description": "",
            "description_tooltip": null,
            "layout": "IPY_MODEL_10b4d583622c44438592ca41fc88fa82",
            "max": 25000,
            "min": 0,
            "orientation": "horizontal",
            "style": "IPY_MODEL_27e344e06a524472964551cdb526bdd8",
            "value": 25000
          }
        },
        "3a9cec3b31f943fdb8fccb6a71c94d66": {
          "model_module": "@jupyter-widgets/controls",
          "model_name": "HTMLModel",
          "model_module_version": "1.5.0",
          "state": {
            "_dom_classes": [],
            "_model_module": "@jupyter-widgets/controls",
            "_model_module_version": "1.5.0",
            "_model_name": "HTMLModel",
            "_view_count": null,
            "_view_module": "@jupyter-widgets/controls",
            "_view_module_version": "1.5.0",
            "_view_name": "HTMLView",
            "description": "",
            "description_tooltip": null,
            "layout": "IPY_MODEL_77bfe3538060432a8db42e703a033cfa",
            "placeholder": "​",
            "style": "IPY_MODEL_7577081b249d4fc9835652b26fb3ba2d",
            "value": " 25000/25000 [00:00&lt;00:00, 97712.54 examples/s]"
          }
        },
        "ba4685d70e1448069d38d653d53eab15": {
          "model_module": "@jupyter-widgets/base",
          "model_name": "LayoutModel",
          "model_module_version": "1.2.0",
          "state": {
            "_model_module": "@jupyter-widgets/base",
            "_model_module_version": "1.2.0",
            "_model_name": "LayoutModel",
            "_view_count": null,
            "_view_module": "@jupyter-widgets/base",
            "_view_module_version": "1.2.0",
            "_view_name": "LayoutView",
            "align_content": null,
            "align_items": null,
            "align_self": null,
            "border": null,
            "bottom": null,
            "display": null,
            "flex": null,
            "flex_flow": null,
            "grid_area": null,
            "grid_auto_columns": null,
            "grid_auto_flow": null,
            "grid_auto_rows": null,
            "grid_column": null,
            "grid_gap": null,
            "grid_row": null,
            "grid_template_areas": null,
            "grid_template_columns": null,
            "grid_template_rows": null,
            "height": null,
            "justify_content": null,
            "justify_items": null,
            "left": null,
            "margin": null,
            "max_height": null,
            "max_width": null,
            "min_height": null,
            "min_width": null,
            "object_fit": null,
            "object_position": null,
            "order": null,
            "overflow": null,
            "overflow_x": null,
            "overflow_y": null,
            "padding": null,
            "right": null,
            "top": null,
            "visibility": null,
            "width": null
          }
        },
        "9b8f0dc259da400b9cdabe3e15c1da24": {
          "model_module": "@jupyter-widgets/base",
          "model_name": "LayoutModel",
          "model_module_version": "1.2.0",
          "state": {
            "_model_module": "@jupyter-widgets/base",
            "_model_module_version": "1.2.0",
            "_model_name": "LayoutModel",
            "_view_count": null,
            "_view_module": "@jupyter-widgets/base",
            "_view_module_version": "1.2.0",
            "_view_name": "LayoutView",
            "align_content": null,
            "align_items": null,
            "align_self": null,
            "border": null,
            "bottom": null,
            "display": null,
            "flex": null,
            "flex_flow": null,
            "grid_area": null,
            "grid_auto_columns": null,
            "grid_auto_flow": null,
            "grid_auto_rows": null,
            "grid_column": null,
            "grid_gap": null,
            "grid_row": null,
            "grid_template_areas": null,
            "grid_template_columns": null,
            "grid_template_rows": null,
            "height": null,
            "justify_content": null,
            "justify_items": null,
            "left": null,
            "margin": null,
            "max_height": null,
            "max_width": null,
            "min_height": null,
            "min_width": null,
            "object_fit": null,
            "object_position": null,
            "order": null,
            "overflow": null,
            "overflow_x": null,
            "overflow_y": null,
            "padding": null,
            "right": null,
            "top": null,
            "visibility": null,
            "width": null
          }
        },
        "7025dd2599894c2bb842c970e6588cb2": {
          "model_module": "@jupyter-widgets/controls",
          "model_name": "DescriptionStyleModel",
          "model_module_version": "1.5.0",
          "state": {
            "_model_module": "@jupyter-widgets/controls",
            "_model_module_version": "1.5.0",
            "_model_name": "DescriptionStyleModel",
            "_view_count": null,
            "_view_module": "@jupyter-widgets/base",
            "_view_module_version": "1.2.0",
            "_view_name": "StyleView",
            "description_width": ""
          }
        },
        "10b4d583622c44438592ca41fc88fa82": {
          "model_module": "@jupyter-widgets/base",
          "model_name": "LayoutModel",
          "model_module_version": "1.2.0",
          "state": {
            "_model_module": "@jupyter-widgets/base",
            "_model_module_version": "1.2.0",
            "_model_name": "LayoutModel",
            "_view_count": null,
            "_view_module": "@jupyter-widgets/base",
            "_view_module_version": "1.2.0",
            "_view_name": "LayoutView",
            "align_content": null,
            "align_items": null,
            "align_self": null,
            "border": null,
            "bottom": null,
            "display": null,
            "flex": null,
            "flex_flow": null,
            "grid_area": null,
            "grid_auto_columns": null,
            "grid_auto_flow": null,
            "grid_auto_rows": null,
            "grid_column": null,
            "grid_gap": null,
            "grid_row": null,
            "grid_template_areas": null,
            "grid_template_columns": null,
            "grid_template_rows": null,
            "height": null,
            "justify_content": null,
            "justify_items": null,
            "left": null,
            "margin": null,
            "max_height": null,
            "max_width": null,
            "min_height": null,
            "min_width": null,
            "object_fit": null,
            "object_position": null,
            "order": null,
            "overflow": null,
            "overflow_x": null,
            "overflow_y": null,
            "padding": null,
            "right": null,
            "top": null,
            "visibility": null,
            "width": null
          }
        },
        "27e344e06a524472964551cdb526bdd8": {
          "model_module": "@jupyter-widgets/controls",
          "model_name": "ProgressStyleModel",
          "model_module_version": "1.5.0",
          "state": {
            "_model_module": "@jupyter-widgets/controls",
            "_model_module_version": "1.5.0",
            "_model_name": "ProgressStyleModel",
            "_view_count": null,
            "_view_module": "@jupyter-widgets/base",
            "_view_module_version": "1.2.0",
            "_view_name": "StyleView",
            "bar_color": null,
            "description_width": ""
          }
        },
        "77bfe3538060432a8db42e703a033cfa": {
          "model_module": "@jupyter-widgets/base",
          "model_name": "LayoutModel",
          "model_module_version": "1.2.0",
          "state": {
            "_model_module": "@jupyter-widgets/base",
            "_model_module_version": "1.2.0",
            "_model_name": "LayoutModel",
            "_view_count": null,
            "_view_module": "@jupyter-widgets/base",
            "_view_module_version": "1.2.0",
            "_view_name": "LayoutView",
            "align_content": null,
            "align_items": null,
            "align_self": null,
            "border": null,
            "bottom": null,
            "display": null,
            "flex": null,
            "flex_flow": null,
            "grid_area": null,
            "grid_auto_columns": null,
            "grid_auto_flow": null,
            "grid_auto_rows": null,
            "grid_column": null,
            "grid_gap": null,
            "grid_row": null,
            "grid_template_areas": null,
            "grid_template_columns": null,
            "grid_template_rows": null,
            "height": null,
            "justify_content": null,
            "justify_items": null,
            "left": null,
            "margin": null,
            "max_height": null,
            "max_width": null,
            "min_height": null,
            "min_width": null,
            "object_fit": null,
            "object_position": null,
            "order": null,
            "overflow": null,
            "overflow_x": null,
            "overflow_y": null,
            "padding": null,
            "right": null,
            "top": null,
            "visibility": null,
            "width": null
          }
        },
        "7577081b249d4fc9835652b26fb3ba2d": {
          "model_module": "@jupyter-widgets/controls",
          "model_name": "DescriptionStyleModel",
          "model_module_version": "1.5.0",
          "state": {
            "_model_module": "@jupyter-widgets/controls",
            "_model_module_version": "1.5.0",
            "_model_name": "DescriptionStyleModel",
            "_view_count": null,
            "_view_module": "@jupyter-widgets/base",
            "_view_module_version": "1.2.0",
            "_view_name": "StyleView",
            "description_width": ""
          }
        },
        "a58c76ae540e47f7b176b32151613827": {
          "model_module": "@jupyter-widgets/controls",
          "model_name": "HBoxModel",
          "model_module_version": "1.5.0",
          "state": {
            "_dom_classes": [],
            "_model_module": "@jupyter-widgets/controls",
            "_model_module_version": "1.5.0",
            "_model_name": "HBoxModel",
            "_view_count": null,
            "_view_module": "@jupyter-widgets/controls",
            "_view_module_version": "1.5.0",
            "_view_name": "HBoxView",
            "box_style": "",
            "children": [
              "IPY_MODEL_2d8738fcac81427fb9d39616f6c95b36",
              "IPY_MODEL_071674be5a034e7894a6824a0dec9cae",
              "IPY_MODEL_d60ad8e30747434a8bfca84c7c96711c"
            ],
            "layout": "IPY_MODEL_0b5b78a392dc4a95ae357c553db389af"
          }
        },
        "2d8738fcac81427fb9d39616f6c95b36": {
          "model_module": "@jupyter-widgets/controls",
          "model_name": "HTMLModel",
          "model_module_version": "1.5.0",
          "state": {
            "_dom_classes": [],
            "_model_module": "@jupyter-widgets/controls",
            "_model_module_version": "1.5.0",
            "_model_name": "HTMLModel",
            "_view_count": null,
            "_view_module": "@jupyter-widgets/controls",
            "_view_module_version": "1.5.0",
            "_view_name": "HTMLView",
            "description": "",
            "description_tooltip": null,
            "layout": "IPY_MODEL_0ce1fba0ed6045748c6e49cfc0ffadc3",
            "placeholder": "​",
            "style": "IPY_MODEL_dd0d38df38db4a5c88dce9041e4fdd2a",
            "value": "Generating test split: 100%"
          }
        },
        "071674be5a034e7894a6824a0dec9cae": {
          "model_module": "@jupyter-widgets/controls",
          "model_name": "FloatProgressModel",
          "model_module_version": "1.5.0",
          "state": {
            "_dom_classes": [],
            "_model_module": "@jupyter-widgets/controls",
            "_model_module_version": "1.5.0",
            "_model_name": "FloatProgressModel",
            "_view_count": null,
            "_view_module": "@jupyter-widgets/controls",
            "_view_module_version": "1.5.0",
            "_view_name": "ProgressView",
            "bar_style": "success",
            "description": "",
            "description_tooltip": null,
            "layout": "IPY_MODEL_5a1c2f9345a046479335a2bec7bfd038",
            "max": 25000,
            "min": 0,
            "orientation": "horizontal",
            "style": "IPY_MODEL_897e3bb59f954bef8bbce120466dea32",
            "value": 25000
          }
        },
        "d60ad8e30747434a8bfca84c7c96711c": {
          "model_module": "@jupyter-widgets/controls",
          "model_name": "HTMLModel",
          "model_module_version": "1.5.0",
          "state": {
            "_dom_classes": [],
            "_model_module": "@jupyter-widgets/controls",
            "_model_module_version": "1.5.0",
            "_model_name": "HTMLModel",
            "_view_count": null,
            "_view_module": "@jupyter-widgets/controls",
            "_view_module_version": "1.5.0",
            "_view_name": "HTMLView",
            "description": "",
            "description_tooltip": null,
            "layout": "IPY_MODEL_3a38b9a407bb4677a08017ed8af0e5fd",
            "placeholder": "​",
            "style": "IPY_MODEL_a3eb0d91edf24bccab14517015ce4dbd",
            "value": " 25000/25000 [00:00&lt;00:00, 138963.82 examples/s]"
          }
        },
        "0b5b78a392dc4a95ae357c553db389af": {
          "model_module": "@jupyter-widgets/base",
          "model_name": "LayoutModel",
          "model_module_version": "1.2.0",
          "state": {
            "_model_module": "@jupyter-widgets/base",
            "_model_module_version": "1.2.0",
            "_model_name": "LayoutModel",
            "_view_count": null,
            "_view_module": "@jupyter-widgets/base",
            "_view_module_version": "1.2.0",
            "_view_name": "LayoutView",
            "align_content": null,
            "align_items": null,
            "align_self": null,
            "border": null,
            "bottom": null,
            "display": null,
            "flex": null,
            "flex_flow": null,
            "grid_area": null,
            "grid_auto_columns": null,
            "grid_auto_flow": null,
            "grid_auto_rows": null,
            "grid_column": null,
            "grid_gap": null,
            "grid_row": null,
            "grid_template_areas": null,
            "grid_template_columns": null,
            "grid_template_rows": null,
            "height": null,
            "justify_content": null,
            "justify_items": null,
            "left": null,
            "margin": null,
            "max_height": null,
            "max_width": null,
            "min_height": null,
            "min_width": null,
            "object_fit": null,
            "object_position": null,
            "order": null,
            "overflow": null,
            "overflow_x": null,
            "overflow_y": null,
            "padding": null,
            "right": null,
            "top": null,
            "visibility": null,
            "width": null
          }
        },
        "0ce1fba0ed6045748c6e49cfc0ffadc3": {
          "model_module": "@jupyter-widgets/base",
          "model_name": "LayoutModel",
          "model_module_version": "1.2.0",
          "state": {
            "_model_module": "@jupyter-widgets/base",
            "_model_module_version": "1.2.0",
            "_model_name": "LayoutModel",
            "_view_count": null,
            "_view_module": "@jupyter-widgets/base",
            "_view_module_version": "1.2.0",
            "_view_name": "LayoutView",
            "align_content": null,
            "align_items": null,
            "align_self": null,
            "border": null,
            "bottom": null,
            "display": null,
            "flex": null,
            "flex_flow": null,
            "grid_area": null,
            "grid_auto_columns": null,
            "grid_auto_flow": null,
            "grid_auto_rows": null,
            "grid_column": null,
            "grid_gap": null,
            "grid_row": null,
            "grid_template_areas": null,
            "grid_template_columns": null,
            "grid_template_rows": null,
            "height": null,
            "justify_content": null,
            "justify_items": null,
            "left": null,
            "margin": null,
            "max_height": null,
            "max_width": null,
            "min_height": null,
            "min_width": null,
            "object_fit": null,
            "object_position": null,
            "order": null,
            "overflow": null,
            "overflow_x": null,
            "overflow_y": null,
            "padding": null,
            "right": null,
            "top": null,
            "visibility": null,
            "width": null
          }
        },
        "dd0d38df38db4a5c88dce9041e4fdd2a": {
          "model_module": "@jupyter-widgets/controls",
          "model_name": "DescriptionStyleModel",
          "model_module_version": "1.5.0",
          "state": {
            "_model_module": "@jupyter-widgets/controls",
            "_model_module_version": "1.5.0",
            "_model_name": "DescriptionStyleModel",
            "_view_count": null,
            "_view_module": "@jupyter-widgets/base",
            "_view_module_version": "1.2.0",
            "_view_name": "StyleView",
            "description_width": ""
          }
        },
        "5a1c2f9345a046479335a2bec7bfd038": {
          "model_module": "@jupyter-widgets/base",
          "model_name": "LayoutModel",
          "model_module_version": "1.2.0",
          "state": {
            "_model_module": "@jupyter-widgets/base",
            "_model_module_version": "1.2.0",
            "_model_name": "LayoutModel",
            "_view_count": null,
            "_view_module": "@jupyter-widgets/base",
            "_view_module_version": "1.2.0",
            "_view_name": "LayoutView",
            "align_content": null,
            "align_items": null,
            "align_self": null,
            "border": null,
            "bottom": null,
            "display": null,
            "flex": null,
            "flex_flow": null,
            "grid_area": null,
            "grid_auto_columns": null,
            "grid_auto_flow": null,
            "grid_auto_rows": null,
            "grid_column": null,
            "grid_gap": null,
            "grid_row": null,
            "grid_template_areas": null,
            "grid_template_columns": null,
            "grid_template_rows": null,
            "height": null,
            "justify_content": null,
            "justify_items": null,
            "left": null,
            "margin": null,
            "max_height": null,
            "max_width": null,
            "min_height": null,
            "min_width": null,
            "object_fit": null,
            "object_position": null,
            "order": null,
            "overflow": null,
            "overflow_x": null,
            "overflow_y": null,
            "padding": null,
            "right": null,
            "top": null,
            "visibility": null,
            "width": null
          }
        },
        "897e3bb59f954bef8bbce120466dea32": {
          "model_module": "@jupyter-widgets/controls",
          "model_name": "ProgressStyleModel",
          "model_module_version": "1.5.0",
          "state": {
            "_model_module": "@jupyter-widgets/controls",
            "_model_module_version": "1.5.0",
            "_model_name": "ProgressStyleModel",
            "_view_count": null,
            "_view_module": "@jupyter-widgets/base",
            "_view_module_version": "1.2.0",
            "_view_name": "StyleView",
            "bar_color": null,
            "description_width": ""
          }
        },
        "3a38b9a407bb4677a08017ed8af0e5fd": {
          "model_module": "@jupyter-widgets/base",
          "model_name": "LayoutModel",
          "model_module_version": "1.2.0",
          "state": {
            "_model_module": "@jupyter-widgets/base",
            "_model_module_version": "1.2.0",
            "_model_name": "LayoutModel",
            "_view_count": null,
            "_view_module": "@jupyter-widgets/base",
            "_view_module_version": "1.2.0",
            "_view_name": "LayoutView",
            "align_content": null,
            "align_items": null,
            "align_self": null,
            "border": null,
            "bottom": null,
            "display": null,
            "flex": null,
            "flex_flow": null,
            "grid_area": null,
            "grid_auto_columns": null,
            "grid_auto_flow": null,
            "grid_auto_rows": null,
            "grid_column": null,
            "grid_gap": null,
            "grid_row": null,
            "grid_template_areas": null,
            "grid_template_columns": null,
            "grid_template_rows": null,
            "height": null,
            "justify_content": null,
            "justify_items": null,
            "left": null,
            "margin": null,
            "max_height": null,
            "max_width": null,
            "min_height": null,
            "min_width": null,
            "object_fit": null,
            "object_position": null,
            "order": null,
            "overflow": null,
            "overflow_x": null,
            "overflow_y": null,
            "padding": null,
            "right": null,
            "top": null,
            "visibility": null,
            "width": null
          }
        },
        "a3eb0d91edf24bccab14517015ce4dbd": {
          "model_module": "@jupyter-widgets/controls",
          "model_name": "DescriptionStyleModel",
          "model_module_version": "1.5.0",
          "state": {
            "_model_module": "@jupyter-widgets/controls",
            "_model_module_version": "1.5.0",
            "_model_name": "DescriptionStyleModel",
            "_view_count": null,
            "_view_module": "@jupyter-widgets/base",
            "_view_module_version": "1.2.0",
            "_view_name": "StyleView",
            "description_width": ""
          }
        },
        "0d7d7197f1fb4c4aa6ff69b216b0563c": {
          "model_module": "@jupyter-widgets/controls",
          "model_name": "HBoxModel",
          "model_module_version": "1.5.0",
          "state": {
            "_dom_classes": [],
            "_model_module": "@jupyter-widgets/controls",
            "_model_module_version": "1.5.0",
            "_model_name": "HBoxModel",
            "_view_count": null,
            "_view_module": "@jupyter-widgets/controls",
            "_view_module_version": "1.5.0",
            "_view_name": "HBoxView",
            "box_style": "",
            "children": [
              "IPY_MODEL_cc6417106275496d95e370f9486d8e11",
              "IPY_MODEL_f65fa5f323664aaf83dc1c60d1d2648e",
              "IPY_MODEL_83b1250ca7ca420cb7916b2eb2104797"
            ],
            "layout": "IPY_MODEL_12eb5a4b17494160a1b60b16a7630f13"
          }
        },
        "cc6417106275496d95e370f9486d8e11": {
          "model_module": "@jupyter-widgets/controls",
          "model_name": "HTMLModel",
          "model_module_version": "1.5.0",
          "state": {
            "_dom_classes": [],
            "_model_module": "@jupyter-widgets/controls",
            "_model_module_version": "1.5.0",
            "_model_name": "HTMLModel",
            "_view_count": null,
            "_view_module": "@jupyter-widgets/controls",
            "_view_module_version": "1.5.0",
            "_view_name": "HTMLView",
            "description": "",
            "description_tooltip": null,
            "layout": "IPY_MODEL_eaaa94ed058b418d9e0d8cc133485c3e",
            "placeholder": "​",
            "style": "IPY_MODEL_cbb58868e29245cfa480cb716b40ccd5",
            "value": "Generating unsupervised split: 100%"
          }
        },
        "f65fa5f323664aaf83dc1c60d1d2648e": {
          "model_module": "@jupyter-widgets/controls",
          "model_name": "FloatProgressModel",
          "model_module_version": "1.5.0",
          "state": {
            "_dom_classes": [],
            "_model_module": "@jupyter-widgets/controls",
            "_model_module_version": "1.5.0",
            "_model_name": "FloatProgressModel",
            "_view_count": null,
            "_view_module": "@jupyter-widgets/controls",
            "_view_module_version": "1.5.0",
            "_view_name": "ProgressView",
            "bar_style": "success",
            "description": "",
            "description_tooltip": null,
            "layout": "IPY_MODEL_6e39b1d4a99341d7b48f29e30a161d8f",
            "max": 50000,
            "min": 0,
            "orientation": "horizontal",
            "style": "IPY_MODEL_025c59ab2f0f408b95c2ad82ee421269",
            "value": 50000
          }
        },
        "83b1250ca7ca420cb7916b2eb2104797": {
          "model_module": "@jupyter-widgets/controls",
          "model_name": "HTMLModel",
          "model_module_version": "1.5.0",
          "state": {
            "_dom_classes": [],
            "_model_module": "@jupyter-widgets/controls",
            "_model_module_version": "1.5.0",
            "_model_name": "HTMLModel",
            "_view_count": null,
            "_view_module": "@jupyter-widgets/controls",
            "_view_module_version": "1.5.0",
            "_view_name": "HTMLView",
            "description": "",
            "description_tooltip": null,
            "layout": "IPY_MODEL_67426a2421e3472e983d1fdb51dc4656",
            "placeholder": "​",
            "style": "IPY_MODEL_f7bd903e267741fbadc1d3415bfdc52f",
            "value": " 50000/50000 [00:00&lt;00:00, 165205.85 examples/s]"
          }
        },
        "12eb5a4b17494160a1b60b16a7630f13": {
          "model_module": "@jupyter-widgets/base",
          "model_name": "LayoutModel",
          "model_module_version": "1.2.0",
          "state": {
            "_model_module": "@jupyter-widgets/base",
            "_model_module_version": "1.2.0",
            "_model_name": "LayoutModel",
            "_view_count": null,
            "_view_module": "@jupyter-widgets/base",
            "_view_module_version": "1.2.0",
            "_view_name": "LayoutView",
            "align_content": null,
            "align_items": null,
            "align_self": null,
            "border": null,
            "bottom": null,
            "display": null,
            "flex": null,
            "flex_flow": null,
            "grid_area": null,
            "grid_auto_columns": null,
            "grid_auto_flow": null,
            "grid_auto_rows": null,
            "grid_column": null,
            "grid_gap": null,
            "grid_row": null,
            "grid_template_areas": null,
            "grid_template_columns": null,
            "grid_template_rows": null,
            "height": null,
            "justify_content": null,
            "justify_items": null,
            "left": null,
            "margin": null,
            "max_height": null,
            "max_width": null,
            "min_height": null,
            "min_width": null,
            "object_fit": null,
            "object_position": null,
            "order": null,
            "overflow": null,
            "overflow_x": null,
            "overflow_y": null,
            "padding": null,
            "right": null,
            "top": null,
            "visibility": null,
            "width": null
          }
        },
        "eaaa94ed058b418d9e0d8cc133485c3e": {
          "model_module": "@jupyter-widgets/base",
          "model_name": "LayoutModel",
          "model_module_version": "1.2.0",
          "state": {
            "_model_module": "@jupyter-widgets/base",
            "_model_module_version": "1.2.0",
            "_model_name": "LayoutModel",
            "_view_count": null,
            "_view_module": "@jupyter-widgets/base",
            "_view_module_version": "1.2.0",
            "_view_name": "LayoutView",
            "align_content": null,
            "align_items": null,
            "align_self": null,
            "border": null,
            "bottom": null,
            "display": null,
            "flex": null,
            "flex_flow": null,
            "grid_area": null,
            "grid_auto_columns": null,
            "grid_auto_flow": null,
            "grid_auto_rows": null,
            "grid_column": null,
            "grid_gap": null,
            "grid_row": null,
            "grid_template_areas": null,
            "grid_template_columns": null,
            "grid_template_rows": null,
            "height": null,
            "justify_content": null,
            "justify_items": null,
            "left": null,
            "margin": null,
            "max_height": null,
            "max_width": null,
            "min_height": null,
            "min_width": null,
            "object_fit": null,
            "object_position": null,
            "order": null,
            "overflow": null,
            "overflow_x": null,
            "overflow_y": null,
            "padding": null,
            "right": null,
            "top": null,
            "visibility": null,
            "width": null
          }
        },
        "cbb58868e29245cfa480cb716b40ccd5": {
          "model_module": "@jupyter-widgets/controls",
          "model_name": "DescriptionStyleModel",
          "model_module_version": "1.5.0",
          "state": {
            "_model_module": "@jupyter-widgets/controls",
            "_model_module_version": "1.5.0",
            "_model_name": "DescriptionStyleModel",
            "_view_count": null,
            "_view_module": "@jupyter-widgets/base",
            "_view_module_version": "1.2.0",
            "_view_name": "StyleView",
            "description_width": ""
          }
        },
        "6e39b1d4a99341d7b48f29e30a161d8f": {
          "model_module": "@jupyter-widgets/base",
          "model_name": "LayoutModel",
          "model_module_version": "1.2.0",
          "state": {
            "_model_module": "@jupyter-widgets/base",
            "_model_module_version": "1.2.0",
            "_model_name": "LayoutModel",
            "_view_count": null,
            "_view_module": "@jupyter-widgets/base",
            "_view_module_version": "1.2.0",
            "_view_name": "LayoutView",
            "align_content": null,
            "align_items": null,
            "align_self": null,
            "border": null,
            "bottom": null,
            "display": null,
            "flex": null,
            "flex_flow": null,
            "grid_area": null,
            "grid_auto_columns": null,
            "grid_auto_flow": null,
            "grid_auto_rows": null,
            "grid_column": null,
            "grid_gap": null,
            "grid_row": null,
            "grid_template_areas": null,
            "grid_template_columns": null,
            "grid_template_rows": null,
            "height": null,
            "justify_content": null,
            "justify_items": null,
            "left": null,
            "margin": null,
            "max_height": null,
            "max_width": null,
            "min_height": null,
            "min_width": null,
            "object_fit": null,
            "object_position": null,
            "order": null,
            "overflow": null,
            "overflow_x": null,
            "overflow_y": null,
            "padding": null,
            "right": null,
            "top": null,
            "visibility": null,
            "width": null
          }
        },
        "025c59ab2f0f408b95c2ad82ee421269": {
          "model_module": "@jupyter-widgets/controls",
          "model_name": "ProgressStyleModel",
          "model_module_version": "1.5.0",
          "state": {
            "_model_module": "@jupyter-widgets/controls",
            "_model_module_version": "1.5.0",
            "_model_name": "ProgressStyleModel",
            "_view_count": null,
            "_view_module": "@jupyter-widgets/base",
            "_view_module_version": "1.2.0",
            "_view_name": "StyleView",
            "bar_color": null,
            "description_width": ""
          }
        },
        "67426a2421e3472e983d1fdb51dc4656": {
          "model_module": "@jupyter-widgets/base",
          "model_name": "LayoutModel",
          "model_module_version": "1.2.0",
          "state": {
            "_model_module": "@jupyter-widgets/base",
            "_model_module_version": "1.2.0",
            "_model_name": "LayoutModel",
            "_view_count": null,
            "_view_module": "@jupyter-widgets/base",
            "_view_module_version": "1.2.0",
            "_view_name": "LayoutView",
            "align_content": null,
            "align_items": null,
            "align_self": null,
            "border": null,
            "bottom": null,
            "display": null,
            "flex": null,
            "flex_flow": null,
            "grid_area": null,
            "grid_auto_columns": null,
            "grid_auto_flow": null,
            "grid_auto_rows": null,
            "grid_column": null,
            "grid_gap": null,
            "grid_row": null,
            "grid_template_areas": null,
            "grid_template_columns": null,
            "grid_template_rows": null,
            "height": null,
            "justify_content": null,
            "justify_items": null,
            "left": null,
            "margin": null,
            "max_height": null,
            "max_width": null,
            "min_height": null,
            "min_width": null,
            "object_fit": null,
            "object_position": null,
            "order": null,
            "overflow": null,
            "overflow_x": null,
            "overflow_y": null,
            "padding": null,
            "right": null,
            "top": null,
            "visibility": null,
            "width": null
          }
        },
        "f7bd903e267741fbadc1d3415bfdc52f": {
          "model_module": "@jupyter-widgets/controls",
          "model_name": "DescriptionStyleModel",
          "model_module_version": "1.5.0",
          "state": {
            "_model_module": "@jupyter-widgets/controls",
            "_model_module_version": "1.5.0",
            "_model_name": "DescriptionStyleModel",
            "_view_count": null,
            "_view_module": "@jupyter-widgets/base",
            "_view_module_version": "1.2.0",
            "_view_name": "StyleView",
            "description_width": ""
          }
        },
        "3f3107c8d45b4f6794b7d5bf576fee41": {
          "model_module": "@jupyter-widgets/controls",
          "model_name": "HBoxModel",
          "model_module_version": "1.5.0",
          "state": {
            "_dom_classes": [],
            "_model_module": "@jupyter-widgets/controls",
            "_model_module_version": "1.5.0",
            "_model_name": "HBoxModel",
            "_view_count": null,
            "_view_module": "@jupyter-widgets/controls",
            "_view_module_version": "1.5.0",
            "_view_name": "HBoxView",
            "box_style": "",
            "children": [
              "IPY_MODEL_115165aaf2ed45e4adf0862a37a28501",
              "IPY_MODEL_ebd91dbcd5354859bc73855ef6a985a8",
              "IPY_MODEL_569ce4ff6b2746fcb299d6533a3267d4"
            ],
            "layout": "IPY_MODEL_cf7bddb4a64848fe939713cb5794a3f7"
          }
        },
        "115165aaf2ed45e4adf0862a37a28501": {
          "model_module": "@jupyter-widgets/controls",
          "model_name": "HTMLModel",
          "model_module_version": "1.5.0",
          "state": {
            "_dom_classes": [],
            "_model_module": "@jupyter-widgets/controls",
            "_model_module_version": "1.5.0",
            "_model_name": "HTMLModel",
            "_view_count": null,
            "_view_module": "@jupyter-widgets/controls",
            "_view_module_version": "1.5.0",
            "_view_name": "HTMLView",
            "description": "",
            "description_tooltip": null,
            "layout": "IPY_MODEL_d05c0051d7c34779ba04b123231d2c44",
            "placeholder": "​",
            "style": "IPY_MODEL_e00ba6f7c7624aee828bb7e66ff583a8",
            "value": "Map: 100%"
          }
        },
        "ebd91dbcd5354859bc73855ef6a985a8": {
          "model_module": "@jupyter-widgets/controls",
          "model_name": "FloatProgressModel",
          "model_module_version": "1.5.0",
          "state": {
            "_dom_classes": [],
            "_model_module": "@jupyter-widgets/controls",
            "_model_module_version": "1.5.0",
            "_model_name": "FloatProgressModel",
            "_view_count": null,
            "_view_module": "@jupyter-widgets/controls",
            "_view_module_version": "1.5.0",
            "_view_name": "ProgressView",
            "bar_style": "success",
            "description": "",
            "description_tooltip": null,
            "layout": "IPY_MODEL_7d89772f09324d8580d1f734952bf18e",
            "max": 25000,
            "min": 0,
            "orientation": "horizontal",
            "style": "IPY_MODEL_45159e2d8af24cd1b832cc03063a5e7b",
            "value": 25000
          }
        },
        "569ce4ff6b2746fcb299d6533a3267d4": {
          "model_module": "@jupyter-widgets/controls",
          "model_name": "HTMLModel",
          "model_module_version": "1.5.0",
          "state": {
            "_dom_classes": [],
            "_model_module": "@jupyter-widgets/controls",
            "_model_module_version": "1.5.0",
            "_model_name": "HTMLModel",
            "_view_count": null,
            "_view_module": "@jupyter-widgets/controls",
            "_view_module_version": "1.5.0",
            "_view_name": "HTMLView",
            "description": "",
            "description_tooltip": null,
            "layout": "IPY_MODEL_53f35646dd7347788b80e8575b3a4356",
            "placeholder": "​",
            "style": "IPY_MODEL_46cd8d72d3844d1eafe466bf5c231395",
            "value": " 25000/25000 [00:07&lt;00:00, 2220.03 examples/s]"
          }
        },
        "cf7bddb4a64848fe939713cb5794a3f7": {
          "model_module": "@jupyter-widgets/base",
          "model_name": "LayoutModel",
          "model_module_version": "1.2.0",
          "state": {
            "_model_module": "@jupyter-widgets/base",
            "_model_module_version": "1.2.0",
            "_model_name": "LayoutModel",
            "_view_count": null,
            "_view_module": "@jupyter-widgets/base",
            "_view_module_version": "1.2.0",
            "_view_name": "LayoutView",
            "align_content": null,
            "align_items": null,
            "align_self": null,
            "border": null,
            "bottom": null,
            "display": null,
            "flex": null,
            "flex_flow": null,
            "grid_area": null,
            "grid_auto_columns": null,
            "grid_auto_flow": null,
            "grid_auto_rows": null,
            "grid_column": null,
            "grid_gap": null,
            "grid_row": null,
            "grid_template_areas": null,
            "grid_template_columns": null,
            "grid_template_rows": null,
            "height": null,
            "justify_content": null,
            "justify_items": null,
            "left": null,
            "margin": null,
            "max_height": null,
            "max_width": null,
            "min_height": null,
            "min_width": null,
            "object_fit": null,
            "object_position": null,
            "order": null,
            "overflow": null,
            "overflow_x": null,
            "overflow_y": null,
            "padding": null,
            "right": null,
            "top": null,
            "visibility": null,
            "width": null
          }
        },
        "d05c0051d7c34779ba04b123231d2c44": {
          "model_module": "@jupyter-widgets/base",
          "model_name": "LayoutModel",
          "model_module_version": "1.2.0",
          "state": {
            "_model_module": "@jupyter-widgets/base",
            "_model_module_version": "1.2.0",
            "_model_name": "LayoutModel",
            "_view_count": null,
            "_view_module": "@jupyter-widgets/base",
            "_view_module_version": "1.2.0",
            "_view_name": "LayoutView",
            "align_content": null,
            "align_items": null,
            "align_self": null,
            "border": null,
            "bottom": null,
            "display": null,
            "flex": null,
            "flex_flow": null,
            "grid_area": null,
            "grid_auto_columns": null,
            "grid_auto_flow": null,
            "grid_auto_rows": null,
            "grid_column": null,
            "grid_gap": null,
            "grid_row": null,
            "grid_template_areas": null,
            "grid_template_columns": null,
            "grid_template_rows": null,
            "height": null,
            "justify_content": null,
            "justify_items": null,
            "left": null,
            "margin": null,
            "max_height": null,
            "max_width": null,
            "min_height": null,
            "min_width": null,
            "object_fit": null,
            "object_position": null,
            "order": null,
            "overflow": null,
            "overflow_x": null,
            "overflow_y": null,
            "padding": null,
            "right": null,
            "top": null,
            "visibility": null,
            "width": null
          }
        },
        "e00ba6f7c7624aee828bb7e66ff583a8": {
          "model_module": "@jupyter-widgets/controls",
          "model_name": "DescriptionStyleModel",
          "model_module_version": "1.5.0",
          "state": {
            "_model_module": "@jupyter-widgets/controls",
            "_model_module_version": "1.5.0",
            "_model_name": "DescriptionStyleModel",
            "_view_count": null,
            "_view_module": "@jupyter-widgets/base",
            "_view_module_version": "1.2.0",
            "_view_name": "StyleView",
            "description_width": ""
          }
        },
        "7d89772f09324d8580d1f734952bf18e": {
          "model_module": "@jupyter-widgets/base",
          "model_name": "LayoutModel",
          "model_module_version": "1.2.0",
          "state": {
            "_model_module": "@jupyter-widgets/base",
            "_model_module_version": "1.2.0",
            "_model_name": "LayoutModel",
            "_view_count": null,
            "_view_module": "@jupyter-widgets/base",
            "_view_module_version": "1.2.0",
            "_view_name": "LayoutView",
            "align_content": null,
            "align_items": null,
            "align_self": null,
            "border": null,
            "bottom": null,
            "display": null,
            "flex": null,
            "flex_flow": null,
            "grid_area": null,
            "grid_auto_columns": null,
            "grid_auto_flow": null,
            "grid_auto_rows": null,
            "grid_column": null,
            "grid_gap": null,
            "grid_row": null,
            "grid_template_areas": null,
            "grid_template_columns": null,
            "grid_template_rows": null,
            "height": null,
            "justify_content": null,
            "justify_items": null,
            "left": null,
            "margin": null,
            "max_height": null,
            "max_width": null,
            "min_height": null,
            "min_width": null,
            "object_fit": null,
            "object_position": null,
            "order": null,
            "overflow": null,
            "overflow_x": null,
            "overflow_y": null,
            "padding": null,
            "right": null,
            "top": null,
            "visibility": null,
            "width": null
          }
        },
        "45159e2d8af24cd1b832cc03063a5e7b": {
          "model_module": "@jupyter-widgets/controls",
          "model_name": "ProgressStyleModel",
          "model_module_version": "1.5.0",
          "state": {
            "_model_module": "@jupyter-widgets/controls",
            "_model_module_version": "1.5.0",
            "_model_name": "ProgressStyleModel",
            "_view_count": null,
            "_view_module": "@jupyter-widgets/base",
            "_view_module_version": "1.2.0",
            "_view_name": "StyleView",
            "bar_color": null,
            "description_width": ""
          }
        },
        "53f35646dd7347788b80e8575b3a4356": {
          "model_module": "@jupyter-widgets/base",
          "model_name": "LayoutModel",
          "model_module_version": "1.2.0",
          "state": {
            "_model_module": "@jupyter-widgets/base",
            "_model_module_version": "1.2.0",
            "_model_name": "LayoutModel",
            "_view_count": null,
            "_view_module": "@jupyter-widgets/base",
            "_view_module_version": "1.2.0",
            "_view_name": "LayoutView",
            "align_content": null,
            "align_items": null,
            "align_self": null,
            "border": null,
            "bottom": null,
            "display": null,
            "flex": null,
            "flex_flow": null,
            "grid_area": null,
            "grid_auto_columns": null,
            "grid_auto_flow": null,
            "grid_auto_rows": null,
            "grid_column": null,
            "grid_gap": null,
            "grid_row": null,
            "grid_template_areas": null,
            "grid_template_columns": null,
            "grid_template_rows": null,
            "height": null,
            "justify_content": null,
            "justify_items": null,
            "left": null,
            "margin": null,
            "max_height": null,
            "max_width": null,
            "min_height": null,
            "min_width": null,
            "object_fit": null,
            "object_position": null,
            "order": null,
            "overflow": null,
            "overflow_x": null,
            "overflow_y": null,
            "padding": null,
            "right": null,
            "top": null,
            "visibility": null,
            "width": null
          }
        },
        "46cd8d72d3844d1eafe466bf5c231395": {
          "model_module": "@jupyter-widgets/controls",
          "model_name": "DescriptionStyleModel",
          "model_module_version": "1.5.0",
          "state": {
            "_model_module": "@jupyter-widgets/controls",
            "_model_module_version": "1.5.0",
            "_model_name": "DescriptionStyleModel",
            "_view_count": null,
            "_view_module": "@jupyter-widgets/base",
            "_view_module_version": "1.2.0",
            "_view_name": "StyleView",
            "description_width": ""
          }
        },
        "ef2b1a13090b45a0904f6d3408500ad5": {
          "model_module": "@jupyter-widgets/controls",
          "model_name": "HBoxModel",
          "model_module_version": "1.5.0",
          "state": {
            "_dom_classes": [],
            "_model_module": "@jupyter-widgets/controls",
            "_model_module_version": "1.5.0",
            "_model_name": "HBoxModel",
            "_view_count": null,
            "_view_module": "@jupyter-widgets/controls",
            "_view_module_version": "1.5.0",
            "_view_name": "HBoxView",
            "box_style": "",
            "children": [
              "IPY_MODEL_c3da5f791db14a3c94de65a0c4690a04",
              "IPY_MODEL_77b6d1ed32994d4885b6b12ca0be4a56",
              "IPY_MODEL_31dce7c6e5f94f97a158ae9a47b2238b"
            ],
            "layout": "IPY_MODEL_e3a1d21aa7a34d6889098097887107f6"
          }
        },
        "c3da5f791db14a3c94de65a0c4690a04": {
          "model_module": "@jupyter-widgets/controls",
          "model_name": "HTMLModel",
          "model_module_version": "1.5.0",
          "state": {
            "_dom_classes": [],
            "_model_module": "@jupyter-widgets/controls",
            "_model_module_version": "1.5.0",
            "_model_name": "HTMLModel",
            "_view_count": null,
            "_view_module": "@jupyter-widgets/controls",
            "_view_module_version": "1.5.0",
            "_view_name": "HTMLView",
            "description": "",
            "description_tooltip": null,
            "layout": "IPY_MODEL_145c72a0224f4f55b1c0d849b274676f",
            "placeholder": "​",
            "style": "IPY_MODEL_058dc56a3a614e358c4d82a5d1b582bd",
            "value": "Map: 100%"
          }
        },
        "77b6d1ed32994d4885b6b12ca0be4a56": {
          "model_module": "@jupyter-widgets/controls",
          "model_name": "FloatProgressModel",
          "model_module_version": "1.5.0",
          "state": {
            "_dom_classes": [],
            "_model_module": "@jupyter-widgets/controls",
            "_model_module_version": "1.5.0",
            "_model_name": "FloatProgressModel",
            "_view_count": null,
            "_view_module": "@jupyter-widgets/controls",
            "_view_module_version": "1.5.0",
            "_view_name": "ProgressView",
            "bar_style": "success",
            "description": "",
            "description_tooltip": null,
            "layout": "IPY_MODEL_0ddd122e3c74456eaa58979bd62327e7",
            "max": 25000,
            "min": 0,
            "orientation": "horizontal",
            "style": "IPY_MODEL_d37b1670fb7f44a2b37f8e3ce979847f",
            "value": 25000
          }
        },
        "31dce7c6e5f94f97a158ae9a47b2238b": {
          "model_module": "@jupyter-widgets/controls",
          "model_name": "HTMLModel",
          "model_module_version": "1.5.0",
          "state": {
            "_dom_classes": [],
            "_model_module": "@jupyter-widgets/controls",
            "_model_module_version": "1.5.0",
            "_model_name": "HTMLModel",
            "_view_count": null,
            "_view_module": "@jupyter-widgets/controls",
            "_view_module_version": "1.5.0",
            "_view_name": "HTMLView",
            "description": "",
            "description_tooltip": null,
            "layout": "IPY_MODEL_f2a12a342b074180ad94a2ec98242247",
            "placeholder": "​",
            "style": "IPY_MODEL_c4845c44355e48c4830df29ff5c7310a",
            "value": " 25000/25000 [00:11&lt;00:00, 4524.24 examples/s]"
          }
        },
        "e3a1d21aa7a34d6889098097887107f6": {
          "model_module": "@jupyter-widgets/base",
          "model_name": "LayoutModel",
          "model_module_version": "1.2.0",
          "state": {
            "_model_module": "@jupyter-widgets/base",
            "_model_module_version": "1.2.0",
            "_model_name": "LayoutModel",
            "_view_count": null,
            "_view_module": "@jupyter-widgets/base",
            "_view_module_version": "1.2.0",
            "_view_name": "LayoutView",
            "align_content": null,
            "align_items": null,
            "align_self": null,
            "border": null,
            "bottom": null,
            "display": null,
            "flex": null,
            "flex_flow": null,
            "grid_area": null,
            "grid_auto_columns": null,
            "grid_auto_flow": null,
            "grid_auto_rows": null,
            "grid_column": null,
            "grid_gap": null,
            "grid_row": null,
            "grid_template_areas": null,
            "grid_template_columns": null,
            "grid_template_rows": null,
            "height": null,
            "justify_content": null,
            "justify_items": null,
            "left": null,
            "margin": null,
            "max_height": null,
            "max_width": null,
            "min_height": null,
            "min_width": null,
            "object_fit": null,
            "object_position": null,
            "order": null,
            "overflow": null,
            "overflow_x": null,
            "overflow_y": null,
            "padding": null,
            "right": null,
            "top": null,
            "visibility": null,
            "width": null
          }
        },
        "145c72a0224f4f55b1c0d849b274676f": {
          "model_module": "@jupyter-widgets/base",
          "model_name": "LayoutModel",
          "model_module_version": "1.2.0",
          "state": {
            "_model_module": "@jupyter-widgets/base",
            "_model_module_version": "1.2.0",
            "_model_name": "LayoutModel",
            "_view_count": null,
            "_view_module": "@jupyter-widgets/base",
            "_view_module_version": "1.2.0",
            "_view_name": "LayoutView",
            "align_content": null,
            "align_items": null,
            "align_self": null,
            "border": null,
            "bottom": null,
            "display": null,
            "flex": null,
            "flex_flow": null,
            "grid_area": null,
            "grid_auto_columns": null,
            "grid_auto_flow": null,
            "grid_auto_rows": null,
            "grid_column": null,
            "grid_gap": null,
            "grid_row": null,
            "grid_template_areas": null,
            "grid_template_columns": null,
            "grid_template_rows": null,
            "height": null,
            "justify_content": null,
            "justify_items": null,
            "left": null,
            "margin": null,
            "max_height": null,
            "max_width": null,
            "min_height": null,
            "min_width": null,
            "object_fit": null,
            "object_position": null,
            "order": null,
            "overflow": null,
            "overflow_x": null,
            "overflow_y": null,
            "padding": null,
            "right": null,
            "top": null,
            "visibility": null,
            "width": null
          }
        },
        "058dc56a3a614e358c4d82a5d1b582bd": {
          "model_module": "@jupyter-widgets/controls",
          "model_name": "DescriptionStyleModel",
          "model_module_version": "1.5.0",
          "state": {
            "_model_module": "@jupyter-widgets/controls",
            "_model_module_version": "1.5.0",
            "_model_name": "DescriptionStyleModel",
            "_view_count": null,
            "_view_module": "@jupyter-widgets/base",
            "_view_module_version": "1.2.0",
            "_view_name": "StyleView",
            "description_width": ""
          }
        },
        "0ddd122e3c74456eaa58979bd62327e7": {
          "model_module": "@jupyter-widgets/base",
          "model_name": "LayoutModel",
          "model_module_version": "1.2.0",
          "state": {
            "_model_module": "@jupyter-widgets/base",
            "_model_module_version": "1.2.0",
            "_model_name": "LayoutModel",
            "_view_count": null,
            "_view_module": "@jupyter-widgets/base",
            "_view_module_version": "1.2.0",
            "_view_name": "LayoutView",
            "align_content": null,
            "align_items": null,
            "align_self": null,
            "border": null,
            "bottom": null,
            "display": null,
            "flex": null,
            "flex_flow": null,
            "grid_area": null,
            "grid_auto_columns": null,
            "grid_auto_flow": null,
            "grid_auto_rows": null,
            "grid_column": null,
            "grid_gap": null,
            "grid_row": null,
            "grid_template_areas": null,
            "grid_template_columns": null,
            "grid_template_rows": null,
            "height": null,
            "justify_content": null,
            "justify_items": null,
            "left": null,
            "margin": null,
            "max_height": null,
            "max_width": null,
            "min_height": null,
            "min_width": null,
            "object_fit": null,
            "object_position": null,
            "order": null,
            "overflow": null,
            "overflow_x": null,
            "overflow_y": null,
            "padding": null,
            "right": null,
            "top": null,
            "visibility": null,
            "width": null
          }
        },
        "d37b1670fb7f44a2b37f8e3ce979847f": {
          "model_module": "@jupyter-widgets/controls",
          "model_name": "ProgressStyleModel",
          "model_module_version": "1.5.0",
          "state": {
            "_model_module": "@jupyter-widgets/controls",
            "_model_module_version": "1.5.0",
            "_model_name": "ProgressStyleModel",
            "_view_count": null,
            "_view_module": "@jupyter-widgets/base",
            "_view_module_version": "1.2.0",
            "_view_name": "StyleView",
            "bar_color": null,
            "description_width": ""
          }
        },
        "f2a12a342b074180ad94a2ec98242247": {
          "model_module": "@jupyter-widgets/base",
          "model_name": "LayoutModel",
          "model_module_version": "1.2.0",
          "state": {
            "_model_module": "@jupyter-widgets/base",
            "_model_module_version": "1.2.0",
            "_model_name": "LayoutModel",
            "_view_count": null,
            "_view_module": "@jupyter-widgets/base",
            "_view_module_version": "1.2.0",
            "_view_name": "LayoutView",
            "align_content": null,
            "align_items": null,
            "align_self": null,
            "border": null,
            "bottom": null,
            "display": null,
            "flex": null,
            "flex_flow": null,
            "grid_area": null,
            "grid_auto_columns": null,
            "grid_auto_flow": null,
            "grid_auto_rows": null,
            "grid_column": null,
            "grid_gap": null,
            "grid_row": null,
            "grid_template_areas": null,
            "grid_template_columns": null,
            "grid_template_rows": null,
            "height": null,
            "justify_content": null,
            "justify_items": null,
            "left": null,
            "margin": null,
            "max_height": null,
            "max_width": null,
            "min_height": null,
            "min_width": null,
            "object_fit": null,
            "object_position": null,
            "order": null,
            "overflow": null,
            "overflow_x": null,
            "overflow_y": null,
            "padding": null,
            "right": null,
            "top": null,
            "visibility": null,
            "width": null
          }
        },
        "c4845c44355e48c4830df29ff5c7310a": {
          "model_module": "@jupyter-widgets/controls",
          "model_name": "DescriptionStyleModel",
          "model_module_version": "1.5.0",
          "state": {
            "_model_module": "@jupyter-widgets/controls",
            "_model_module_version": "1.5.0",
            "_model_name": "DescriptionStyleModel",
            "_view_count": null,
            "_view_module": "@jupyter-widgets/base",
            "_view_module_version": "1.2.0",
            "_view_name": "StyleView",
            "description_width": ""
          }
        },
        "29c3b6fac92e4277800968a656756fb2": {
          "model_module": "@jupyter-widgets/controls",
          "model_name": "HBoxModel",
          "model_module_version": "1.5.0",
          "state": {
            "_dom_classes": [],
            "_model_module": "@jupyter-widgets/controls",
            "_model_module_version": "1.5.0",
            "_model_name": "HBoxModel",
            "_view_count": null,
            "_view_module": "@jupyter-widgets/controls",
            "_view_module_version": "1.5.0",
            "_view_name": "HBoxView",
            "box_style": "",
            "children": [
              "IPY_MODEL_b899a2d949ae4894b09f49a1551a5f2b",
              "IPY_MODEL_a4712c3a7a034bcb9109a34c4db5ae72",
              "IPY_MODEL_d5a8209025c54bc5af66c93f8932e3dc"
            ],
            "layout": "IPY_MODEL_e00fc721197a4a248b4340f7d4239449"
          }
        },
        "b899a2d949ae4894b09f49a1551a5f2b": {
          "model_module": "@jupyter-widgets/controls",
          "model_name": "HTMLModel",
          "model_module_version": "1.5.0",
          "state": {
            "_dom_classes": [],
            "_model_module": "@jupyter-widgets/controls",
            "_model_module_version": "1.5.0",
            "_model_name": "HTMLModel",
            "_view_count": null,
            "_view_module": "@jupyter-widgets/controls",
            "_view_module_version": "1.5.0",
            "_view_name": "HTMLView",
            "description": "",
            "description_tooltip": null,
            "layout": "IPY_MODEL_abb2f4e54b1f47948211efd25a91c56c",
            "placeholder": "​",
            "style": "IPY_MODEL_b656cfc5d11542288598e7dd2aaee1f0",
            "value": "Map: 100%"
          }
        },
        "a4712c3a7a034bcb9109a34c4db5ae72": {
          "model_module": "@jupyter-widgets/controls",
          "model_name": "FloatProgressModel",
          "model_module_version": "1.5.0",
          "state": {
            "_dom_classes": [],
            "_model_module": "@jupyter-widgets/controls",
            "_model_module_version": "1.5.0",
            "_model_name": "FloatProgressModel",
            "_view_count": null,
            "_view_module": "@jupyter-widgets/controls",
            "_view_module_version": "1.5.0",
            "_view_name": "ProgressView",
            "bar_style": "success",
            "description": "",
            "description_tooltip": null,
            "layout": "IPY_MODEL_67238dc058e546d09e184890d741b0aa",
            "max": 18750,
            "min": 0,
            "orientation": "horizontal",
            "style": "IPY_MODEL_0e535739d10d46d79ac04655e9e11995",
            "value": 18750
          }
        },
        "d5a8209025c54bc5af66c93f8932e3dc": {
          "model_module": "@jupyter-widgets/controls",
          "model_name": "HTMLModel",
          "model_module_version": "1.5.0",
          "state": {
            "_dom_classes": [],
            "_model_module": "@jupyter-widgets/controls",
            "_model_module_version": "1.5.0",
            "_model_name": "HTMLModel",
            "_view_count": null,
            "_view_module": "@jupyter-widgets/controls",
            "_view_module_version": "1.5.0",
            "_view_name": "HTMLView",
            "description": "",
            "description_tooltip": null,
            "layout": "IPY_MODEL_b026496bbeb84b3aa0747032c5acbac3",
            "placeholder": "​",
            "style": "IPY_MODEL_22568047cff147acb49ba1ec9cf3a847",
            "value": " 18750/18750 [00:06&lt;00:00, 2845.22 examples/s]"
          }
        },
        "e00fc721197a4a248b4340f7d4239449": {
          "model_module": "@jupyter-widgets/base",
          "model_name": "LayoutModel",
          "model_module_version": "1.2.0",
          "state": {
            "_model_module": "@jupyter-widgets/base",
            "_model_module_version": "1.2.0",
            "_model_name": "LayoutModel",
            "_view_count": null,
            "_view_module": "@jupyter-widgets/base",
            "_view_module_version": "1.2.0",
            "_view_name": "LayoutView",
            "align_content": null,
            "align_items": null,
            "align_self": null,
            "border": null,
            "bottom": null,
            "display": null,
            "flex": null,
            "flex_flow": null,
            "grid_area": null,
            "grid_auto_columns": null,
            "grid_auto_flow": null,
            "grid_auto_rows": null,
            "grid_column": null,
            "grid_gap": null,
            "grid_row": null,
            "grid_template_areas": null,
            "grid_template_columns": null,
            "grid_template_rows": null,
            "height": null,
            "justify_content": null,
            "justify_items": null,
            "left": null,
            "margin": null,
            "max_height": null,
            "max_width": null,
            "min_height": null,
            "min_width": null,
            "object_fit": null,
            "object_position": null,
            "order": null,
            "overflow": null,
            "overflow_x": null,
            "overflow_y": null,
            "padding": null,
            "right": null,
            "top": null,
            "visibility": null,
            "width": null
          }
        },
        "abb2f4e54b1f47948211efd25a91c56c": {
          "model_module": "@jupyter-widgets/base",
          "model_name": "LayoutModel",
          "model_module_version": "1.2.0",
          "state": {
            "_model_module": "@jupyter-widgets/base",
            "_model_module_version": "1.2.0",
            "_model_name": "LayoutModel",
            "_view_count": null,
            "_view_module": "@jupyter-widgets/base",
            "_view_module_version": "1.2.0",
            "_view_name": "LayoutView",
            "align_content": null,
            "align_items": null,
            "align_self": null,
            "border": null,
            "bottom": null,
            "display": null,
            "flex": null,
            "flex_flow": null,
            "grid_area": null,
            "grid_auto_columns": null,
            "grid_auto_flow": null,
            "grid_auto_rows": null,
            "grid_column": null,
            "grid_gap": null,
            "grid_row": null,
            "grid_template_areas": null,
            "grid_template_columns": null,
            "grid_template_rows": null,
            "height": null,
            "justify_content": null,
            "justify_items": null,
            "left": null,
            "margin": null,
            "max_height": null,
            "max_width": null,
            "min_height": null,
            "min_width": null,
            "object_fit": null,
            "object_position": null,
            "order": null,
            "overflow": null,
            "overflow_x": null,
            "overflow_y": null,
            "padding": null,
            "right": null,
            "top": null,
            "visibility": null,
            "width": null
          }
        },
        "b656cfc5d11542288598e7dd2aaee1f0": {
          "model_module": "@jupyter-widgets/controls",
          "model_name": "DescriptionStyleModel",
          "model_module_version": "1.5.0",
          "state": {
            "_model_module": "@jupyter-widgets/controls",
            "_model_module_version": "1.5.0",
            "_model_name": "DescriptionStyleModel",
            "_view_count": null,
            "_view_module": "@jupyter-widgets/base",
            "_view_module_version": "1.2.0",
            "_view_name": "StyleView",
            "description_width": ""
          }
        },
        "67238dc058e546d09e184890d741b0aa": {
          "model_module": "@jupyter-widgets/base",
          "model_name": "LayoutModel",
          "model_module_version": "1.2.0",
          "state": {
            "_model_module": "@jupyter-widgets/base",
            "_model_module_version": "1.2.0",
            "_model_name": "LayoutModel",
            "_view_count": null,
            "_view_module": "@jupyter-widgets/base",
            "_view_module_version": "1.2.0",
            "_view_name": "LayoutView",
            "align_content": null,
            "align_items": null,
            "align_self": null,
            "border": null,
            "bottom": null,
            "display": null,
            "flex": null,
            "flex_flow": null,
            "grid_area": null,
            "grid_auto_columns": null,
            "grid_auto_flow": null,
            "grid_auto_rows": null,
            "grid_column": null,
            "grid_gap": null,
            "grid_row": null,
            "grid_template_areas": null,
            "grid_template_columns": null,
            "grid_template_rows": null,
            "height": null,
            "justify_content": null,
            "justify_items": null,
            "left": null,
            "margin": null,
            "max_height": null,
            "max_width": null,
            "min_height": null,
            "min_width": null,
            "object_fit": null,
            "object_position": null,
            "order": null,
            "overflow": null,
            "overflow_x": null,
            "overflow_y": null,
            "padding": null,
            "right": null,
            "top": null,
            "visibility": null,
            "width": null
          }
        },
        "0e535739d10d46d79ac04655e9e11995": {
          "model_module": "@jupyter-widgets/controls",
          "model_name": "ProgressStyleModel",
          "model_module_version": "1.5.0",
          "state": {
            "_model_module": "@jupyter-widgets/controls",
            "_model_module_version": "1.5.0",
            "_model_name": "ProgressStyleModel",
            "_view_count": null,
            "_view_module": "@jupyter-widgets/base",
            "_view_module_version": "1.2.0",
            "_view_name": "StyleView",
            "bar_color": null,
            "description_width": ""
          }
        },
        "b026496bbeb84b3aa0747032c5acbac3": {
          "model_module": "@jupyter-widgets/base",
          "model_name": "LayoutModel",
          "model_module_version": "1.2.0",
          "state": {
            "_model_module": "@jupyter-widgets/base",
            "_model_module_version": "1.2.0",
            "_model_name": "LayoutModel",
            "_view_count": null,
            "_view_module": "@jupyter-widgets/base",
            "_view_module_version": "1.2.0",
            "_view_name": "LayoutView",
            "align_content": null,
            "align_items": null,
            "align_self": null,
            "border": null,
            "bottom": null,
            "display": null,
            "flex": null,
            "flex_flow": null,
            "grid_area": null,
            "grid_auto_columns": null,
            "grid_auto_flow": null,
            "grid_auto_rows": null,
            "grid_column": null,
            "grid_gap": null,
            "grid_row": null,
            "grid_template_areas": null,
            "grid_template_columns": null,
            "grid_template_rows": null,
            "height": null,
            "justify_content": null,
            "justify_items": null,
            "left": null,
            "margin": null,
            "max_height": null,
            "max_width": null,
            "min_height": null,
            "min_width": null,
            "object_fit": null,
            "object_position": null,
            "order": null,
            "overflow": null,
            "overflow_x": null,
            "overflow_y": null,
            "padding": null,
            "right": null,
            "top": null,
            "visibility": null,
            "width": null
          }
        },
        "22568047cff147acb49ba1ec9cf3a847": {
          "model_module": "@jupyter-widgets/controls",
          "model_name": "DescriptionStyleModel",
          "model_module_version": "1.5.0",
          "state": {
            "_model_module": "@jupyter-widgets/controls",
            "_model_module_version": "1.5.0",
            "_model_name": "DescriptionStyleModel",
            "_view_count": null,
            "_view_module": "@jupyter-widgets/base",
            "_view_module_version": "1.2.0",
            "_view_name": "StyleView",
            "description_width": ""
          }
        },
        "76727b89346840428854679f78771c60": {
          "model_module": "@jupyter-widgets/controls",
          "model_name": "HBoxModel",
          "model_module_version": "1.5.0",
          "state": {
            "_dom_classes": [],
            "_model_module": "@jupyter-widgets/controls",
            "_model_module_version": "1.5.0",
            "_model_name": "HBoxModel",
            "_view_count": null,
            "_view_module": "@jupyter-widgets/controls",
            "_view_module_version": "1.5.0",
            "_view_name": "HBoxView",
            "box_style": "",
            "children": [
              "IPY_MODEL_043f453abc414ed4a88542bbb54b569a",
              "IPY_MODEL_70b838faa055468e84801dbd39cadd08",
              "IPY_MODEL_787e063df4694359a6d46ebdb1a9d25c"
            ],
            "layout": "IPY_MODEL_40d4ba7646ad4ceca0ef5be14343d652"
          }
        },
        "043f453abc414ed4a88542bbb54b569a": {
          "model_module": "@jupyter-widgets/controls",
          "model_name": "HTMLModel",
          "model_module_version": "1.5.0",
          "state": {
            "_dom_classes": [],
            "_model_module": "@jupyter-widgets/controls",
            "_model_module_version": "1.5.0",
            "_model_name": "HTMLModel",
            "_view_count": null,
            "_view_module": "@jupyter-widgets/controls",
            "_view_module_version": "1.5.0",
            "_view_name": "HTMLView",
            "description": "",
            "description_tooltip": null,
            "layout": "IPY_MODEL_bd80a1f7f6c044028818009b373bc000",
            "placeholder": "​",
            "style": "IPY_MODEL_dbfd9707380b4a37966e5690ff2a38b9",
            "value": "Map: 100%"
          }
        },
        "70b838faa055468e84801dbd39cadd08": {
          "model_module": "@jupyter-widgets/controls",
          "model_name": "FloatProgressModel",
          "model_module_version": "1.5.0",
          "state": {
            "_dom_classes": [],
            "_model_module": "@jupyter-widgets/controls",
            "_model_module_version": "1.5.0",
            "_model_name": "FloatProgressModel",
            "_view_count": null,
            "_view_module": "@jupyter-widgets/controls",
            "_view_module_version": "1.5.0",
            "_view_name": "ProgressView",
            "bar_style": "success",
            "description": "",
            "description_tooltip": null,
            "layout": "IPY_MODEL_c4ab37035788480c953748df9dfbbeda",
            "max": 6250,
            "min": 0,
            "orientation": "horizontal",
            "style": "IPY_MODEL_ed1c0d4bfc474fd799b8a450d1537506",
            "value": 6250
          }
        },
        "787e063df4694359a6d46ebdb1a9d25c": {
          "model_module": "@jupyter-widgets/controls",
          "model_name": "HTMLModel",
          "model_module_version": "1.5.0",
          "state": {
            "_dom_classes": [],
            "_model_module": "@jupyter-widgets/controls",
            "_model_module_version": "1.5.0",
            "_model_name": "HTMLModel",
            "_view_count": null,
            "_view_module": "@jupyter-widgets/controls",
            "_view_module_version": "1.5.0",
            "_view_name": "HTMLView",
            "description": "",
            "description_tooltip": null,
            "layout": "IPY_MODEL_600c04adc1d040b0ba64a4f267eab7e1",
            "placeholder": "​",
            "style": "IPY_MODEL_0850b1e0c26b446c88c006a58042f615",
            "value": " 6250/6250 [00:02&lt;00:00, 2760.16 examples/s]"
          }
        },
        "40d4ba7646ad4ceca0ef5be14343d652": {
          "model_module": "@jupyter-widgets/base",
          "model_name": "LayoutModel",
          "model_module_version": "1.2.0",
          "state": {
            "_model_module": "@jupyter-widgets/base",
            "_model_module_version": "1.2.0",
            "_model_name": "LayoutModel",
            "_view_count": null,
            "_view_module": "@jupyter-widgets/base",
            "_view_module_version": "1.2.0",
            "_view_name": "LayoutView",
            "align_content": null,
            "align_items": null,
            "align_self": null,
            "border": null,
            "bottom": null,
            "display": null,
            "flex": null,
            "flex_flow": null,
            "grid_area": null,
            "grid_auto_columns": null,
            "grid_auto_flow": null,
            "grid_auto_rows": null,
            "grid_column": null,
            "grid_gap": null,
            "grid_row": null,
            "grid_template_areas": null,
            "grid_template_columns": null,
            "grid_template_rows": null,
            "height": null,
            "justify_content": null,
            "justify_items": null,
            "left": null,
            "margin": null,
            "max_height": null,
            "max_width": null,
            "min_height": null,
            "min_width": null,
            "object_fit": null,
            "object_position": null,
            "order": null,
            "overflow": null,
            "overflow_x": null,
            "overflow_y": null,
            "padding": null,
            "right": null,
            "top": null,
            "visibility": null,
            "width": null
          }
        },
        "bd80a1f7f6c044028818009b373bc000": {
          "model_module": "@jupyter-widgets/base",
          "model_name": "LayoutModel",
          "model_module_version": "1.2.0",
          "state": {
            "_model_module": "@jupyter-widgets/base",
            "_model_module_version": "1.2.0",
            "_model_name": "LayoutModel",
            "_view_count": null,
            "_view_module": "@jupyter-widgets/base",
            "_view_module_version": "1.2.0",
            "_view_name": "LayoutView",
            "align_content": null,
            "align_items": null,
            "align_self": null,
            "border": null,
            "bottom": null,
            "display": null,
            "flex": null,
            "flex_flow": null,
            "grid_area": null,
            "grid_auto_columns": null,
            "grid_auto_flow": null,
            "grid_auto_rows": null,
            "grid_column": null,
            "grid_gap": null,
            "grid_row": null,
            "grid_template_areas": null,
            "grid_template_columns": null,
            "grid_template_rows": null,
            "height": null,
            "justify_content": null,
            "justify_items": null,
            "left": null,
            "margin": null,
            "max_height": null,
            "max_width": null,
            "min_height": null,
            "min_width": null,
            "object_fit": null,
            "object_position": null,
            "order": null,
            "overflow": null,
            "overflow_x": null,
            "overflow_y": null,
            "padding": null,
            "right": null,
            "top": null,
            "visibility": null,
            "width": null
          }
        },
        "dbfd9707380b4a37966e5690ff2a38b9": {
          "model_module": "@jupyter-widgets/controls",
          "model_name": "DescriptionStyleModel",
          "model_module_version": "1.5.0",
          "state": {
            "_model_module": "@jupyter-widgets/controls",
            "_model_module_version": "1.5.0",
            "_model_name": "DescriptionStyleModel",
            "_view_count": null,
            "_view_module": "@jupyter-widgets/base",
            "_view_module_version": "1.2.0",
            "_view_name": "StyleView",
            "description_width": ""
          }
        },
        "c4ab37035788480c953748df9dfbbeda": {
          "model_module": "@jupyter-widgets/base",
          "model_name": "LayoutModel",
          "model_module_version": "1.2.0",
          "state": {
            "_model_module": "@jupyter-widgets/base",
            "_model_module_version": "1.2.0",
            "_model_name": "LayoutModel",
            "_view_count": null,
            "_view_module": "@jupyter-widgets/base",
            "_view_module_version": "1.2.0",
            "_view_name": "LayoutView",
            "align_content": null,
            "align_items": null,
            "align_self": null,
            "border": null,
            "bottom": null,
            "display": null,
            "flex": null,
            "flex_flow": null,
            "grid_area": null,
            "grid_auto_columns": null,
            "grid_auto_flow": null,
            "grid_auto_rows": null,
            "grid_column": null,
            "grid_gap": null,
            "grid_row": null,
            "grid_template_areas": null,
            "grid_template_columns": null,
            "grid_template_rows": null,
            "height": null,
            "justify_content": null,
            "justify_items": null,
            "left": null,
            "margin": null,
            "max_height": null,
            "max_width": null,
            "min_height": null,
            "min_width": null,
            "object_fit": null,
            "object_position": null,
            "order": null,
            "overflow": null,
            "overflow_x": null,
            "overflow_y": null,
            "padding": null,
            "right": null,
            "top": null,
            "visibility": null,
            "width": null
          }
        },
        "ed1c0d4bfc474fd799b8a450d1537506": {
          "model_module": "@jupyter-widgets/controls",
          "model_name": "ProgressStyleModel",
          "model_module_version": "1.5.0",
          "state": {
            "_model_module": "@jupyter-widgets/controls",
            "_model_module_version": "1.5.0",
            "_model_name": "ProgressStyleModel",
            "_view_count": null,
            "_view_module": "@jupyter-widgets/base",
            "_view_module_version": "1.2.0",
            "_view_name": "StyleView",
            "bar_color": null,
            "description_width": ""
          }
        },
        "600c04adc1d040b0ba64a4f267eab7e1": {
          "model_module": "@jupyter-widgets/base",
          "model_name": "LayoutModel",
          "model_module_version": "1.2.0",
          "state": {
            "_model_module": "@jupyter-widgets/base",
            "_model_module_version": "1.2.0",
            "_model_name": "LayoutModel",
            "_view_count": null,
            "_view_module": "@jupyter-widgets/base",
            "_view_module_version": "1.2.0",
            "_view_name": "LayoutView",
            "align_content": null,
            "align_items": null,
            "align_self": null,
            "border": null,
            "bottom": null,
            "display": null,
            "flex": null,
            "flex_flow": null,
            "grid_area": null,
            "grid_auto_columns": null,
            "grid_auto_flow": null,
            "grid_auto_rows": null,
            "grid_column": null,
            "grid_gap": null,
            "grid_row": null,
            "grid_template_areas": null,
            "grid_template_columns": null,
            "grid_template_rows": null,
            "height": null,
            "justify_content": null,
            "justify_items": null,
            "left": null,
            "margin": null,
            "max_height": null,
            "max_width": null,
            "min_height": null,
            "min_width": null,
            "object_fit": null,
            "object_position": null,
            "order": null,
            "overflow": null,
            "overflow_x": null,
            "overflow_y": null,
            "padding": null,
            "right": null,
            "top": null,
            "visibility": null,
            "width": null
          }
        },
        "0850b1e0c26b446c88c006a58042f615": {
          "model_module": "@jupyter-widgets/controls",
          "model_name": "DescriptionStyleModel",
          "model_module_version": "1.5.0",
          "state": {
            "_model_module": "@jupyter-widgets/controls",
            "_model_module_version": "1.5.0",
            "_model_name": "DescriptionStyleModel",
            "_view_count": null,
            "_view_module": "@jupyter-widgets/base",
            "_view_module_version": "1.2.0",
            "_view_name": "StyleView",
            "description_width": ""
          }
        },
        "fbe99613c1934eaf815f66ef87be386c": {
          "model_module": "@jupyter-widgets/controls",
          "model_name": "HBoxModel",
          "model_module_version": "1.5.0",
          "state": {
            "_dom_classes": [],
            "_model_module": "@jupyter-widgets/controls",
            "_model_module_version": "1.5.0",
            "_model_name": "HBoxModel",
            "_view_count": null,
            "_view_module": "@jupyter-widgets/controls",
            "_view_module_version": "1.5.0",
            "_view_name": "HBoxView",
            "box_style": "",
            "children": [
              "IPY_MODEL_c2d79324eb1e41aabc7e9da153511f27",
              "IPY_MODEL_105ad59a60f54a01b81b8dd69af1787c",
              "IPY_MODEL_9fd1568d9a2c4c28be16cbd92a07baba"
            ],
            "layout": "IPY_MODEL_8a08b83c2ae14fd79f21bf3f1f23d38a"
          }
        },
        "c2d79324eb1e41aabc7e9da153511f27": {
          "model_module": "@jupyter-widgets/controls",
          "model_name": "HTMLModel",
          "model_module_version": "1.5.0",
          "state": {
            "_dom_classes": [],
            "_model_module": "@jupyter-widgets/controls",
            "_model_module_version": "1.5.0",
            "_model_name": "HTMLModel",
            "_view_count": null,
            "_view_module": "@jupyter-widgets/controls",
            "_view_module_version": "1.5.0",
            "_view_name": "HTMLView",
            "description": "",
            "description_tooltip": null,
            "layout": "IPY_MODEL_2ca771e4bec5492aa0b811fadc8c0815",
            "placeholder": "​",
            "style": "IPY_MODEL_0672cc33e4b4459bbb9a3e7b6baf4c17",
            "value": "Map: 100%"
          }
        },
        "105ad59a60f54a01b81b8dd69af1787c": {
          "model_module": "@jupyter-widgets/controls",
          "model_name": "FloatProgressModel",
          "model_module_version": "1.5.0",
          "state": {
            "_dom_classes": [],
            "_model_module": "@jupyter-widgets/controls",
            "_model_module_version": "1.5.0",
            "_model_name": "FloatProgressModel",
            "_view_count": null,
            "_view_module": "@jupyter-widgets/controls",
            "_view_module_version": "1.5.0",
            "_view_name": "ProgressView",
            "bar_style": "success",
            "description": "",
            "description_tooltip": null,
            "layout": "IPY_MODEL_06f7fe237884447cb268f08fb87c7eac",
            "max": 25000,
            "min": 0,
            "orientation": "horizontal",
            "style": "IPY_MODEL_fcae934c233a405f94c87af5914d250f",
            "value": 25000
          }
        },
        "9fd1568d9a2c4c28be16cbd92a07baba": {
          "model_module": "@jupyter-widgets/controls",
          "model_name": "HTMLModel",
          "model_module_version": "1.5.0",
          "state": {
            "_dom_classes": [],
            "_model_module": "@jupyter-widgets/controls",
            "_model_module_version": "1.5.0",
            "_model_name": "HTMLModel",
            "_view_count": null,
            "_view_module": "@jupyter-widgets/controls",
            "_view_module_version": "1.5.0",
            "_view_name": "HTMLView",
            "description": "",
            "description_tooltip": null,
            "layout": "IPY_MODEL_f52fcde2a2524b2a9485485007a405df",
            "placeholder": "​",
            "style": "IPY_MODEL_45bf2b41a6264035a8e139259e5b5d08",
            "value": " 25000/25000 [00:09&lt;00:00, 3524.69 examples/s]"
          }
        },
        "8a08b83c2ae14fd79f21bf3f1f23d38a": {
          "model_module": "@jupyter-widgets/base",
          "model_name": "LayoutModel",
          "model_module_version": "1.2.0",
          "state": {
            "_model_module": "@jupyter-widgets/base",
            "_model_module_version": "1.2.0",
            "_model_name": "LayoutModel",
            "_view_count": null,
            "_view_module": "@jupyter-widgets/base",
            "_view_module_version": "1.2.0",
            "_view_name": "LayoutView",
            "align_content": null,
            "align_items": null,
            "align_self": null,
            "border": null,
            "bottom": null,
            "display": null,
            "flex": null,
            "flex_flow": null,
            "grid_area": null,
            "grid_auto_columns": null,
            "grid_auto_flow": null,
            "grid_auto_rows": null,
            "grid_column": null,
            "grid_gap": null,
            "grid_row": null,
            "grid_template_areas": null,
            "grid_template_columns": null,
            "grid_template_rows": null,
            "height": null,
            "justify_content": null,
            "justify_items": null,
            "left": null,
            "margin": null,
            "max_height": null,
            "max_width": null,
            "min_height": null,
            "min_width": null,
            "object_fit": null,
            "object_position": null,
            "order": null,
            "overflow": null,
            "overflow_x": null,
            "overflow_y": null,
            "padding": null,
            "right": null,
            "top": null,
            "visibility": null,
            "width": null
          }
        },
        "2ca771e4bec5492aa0b811fadc8c0815": {
          "model_module": "@jupyter-widgets/base",
          "model_name": "LayoutModel",
          "model_module_version": "1.2.0",
          "state": {
            "_model_module": "@jupyter-widgets/base",
            "_model_module_version": "1.2.0",
            "_model_name": "LayoutModel",
            "_view_count": null,
            "_view_module": "@jupyter-widgets/base",
            "_view_module_version": "1.2.0",
            "_view_name": "LayoutView",
            "align_content": null,
            "align_items": null,
            "align_self": null,
            "border": null,
            "bottom": null,
            "display": null,
            "flex": null,
            "flex_flow": null,
            "grid_area": null,
            "grid_auto_columns": null,
            "grid_auto_flow": null,
            "grid_auto_rows": null,
            "grid_column": null,
            "grid_gap": null,
            "grid_row": null,
            "grid_template_areas": null,
            "grid_template_columns": null,
            "grid_template_rows": null,
            "height": null,
            "justify_content": null,
            "justify_items": null,
            "left": null,
            "margin": null,
            "max_height": null,
            "max_width": null,
            "min_height": null,
            "min_width": null,
            "object_fit": null,
            "object_position": null,
            "order": null,
            "overflow": null,
            "overflow_x": null,
            "overflow_y": null,
            "padding": null,
            "right": null,
            "top": null,
            "visibility": null,
            "width": null
          }
        },
        "0672cc33e4b4459bbb9a3e7b6baf4c17": {
          "model_module": "@jupyter-widgets/controls",
          "model_name": "DescriptionStyleModel",
          "model_module_version": "1.5.0",
          "state": {
            "_model_module": "@jupyter-widgets/controls",
            "_model_module_version": "1.5.0",
            "_model_name": "DescriptionStyleModel",
            "_view_count": null,
            "_view_module": "@jupyter-widgets/base",
            "_view_module_version": "1.2.0",
            "_view_name": "StyleView",
            "description_width": ""
          }
        },
        "06f7fe237884447cb268f08fb87c7eac": {
          "model_module": "@jupyter-widgets/base",
          "model_name": "LayoutModel",
          "model_module_version": "1.2.0",
          "state": {
            "_model_module": "@jupyter-widgets/base",
            "_model_module_version": "1.2.0",
            "_model_name": "LayoutModel",
            "_view_count": null,
            "_view_module": "@jupyter-widgets/base",
            "_view_module_version": "1.2.0",
            "_view_name": "LayoutView",
            "align_content": null,
            "align_items": null,
            "align_self": null,
            "border": null,
            "bottom": null,
            "display": null,
            "flex": null,
            "flex_flow": null,
            "grid_area": null,
            "grid_auto_columns": null,
            "grid_auto_flow": null,
            "grid_auto_rows": null,
            "grid_column": null,
            "grid_gap": null,
            "grid_row": null,
            "grid_template_areas": null,
            "grid_template_columns": null,
            "grid_template_rows": null,
            "height": null,
            "justify_content": null,
            "justify_items": null,
            "left": null,
            "margin": null,
            "max_height": null,
            "max_width": null,
            "min_height": null,
            "min_width": null,
            "object_fit": null,
            "object_position": null,
            "order": null,
            "overflow": null,
            "overflow_x": null,
            "overflow_y": null,
            "padding": null,
            "right": null,
            "top": null,
            "visibility": null,
            "width": null
          }
        },
        "fcae934c233a405f94c87af5914d250f": {
          "model_module": "@jupyter-widgets/controls",
          "model_name": "ProgressStyleModel",
          "model_module_version": "1.5.0",
          "state": {
            "_model_module": "@jupyter-widgets/controls",
            "_model_module_version": "1.5.0",
            "_model_name": "ProgressStyleModel",
            "_view_count": null,
            "_view_module": "@jupyter-widgets/base",
            "_view_module_version": "1.2.0",
            "_view_name": "StyleView",
            "bar_color": null,
            "description_width": ""
          }
        },
        "f52fcde2a2524b2a9485485007a405df": {
          "model_module": "@jupyter-widgets/base",
          "model_name": "LayoutModel",
          "model_module_version": "1.2.0",
          "state": {
            "_model_module": "@jupyter-widgets/base",
            "_model_module_version": "1.2.0",
            "_model_name": "LayoutModel",
            "_view_count": null,
            "_view_module": "@jupyter-widgets/base",
            "_view_module_version": "1.2.0",
            "_view_name": "LayoutView",
            "align_content": null,
            "align_items": null,
            "align_self": null,
            "border": null,
            "bottom": null,
            "display": null,
            "flex": null,
            "flex_flow": null,
            "grid_area": null,
            "grid_auto_columns": null,
            "grid_auto_flow": null,
            "grid_auto_rows": null,
            "grid_column": null,
            "grid_gap": null,
            "grid_row": null,
            "grid_template_areas": null,
            "grid_template_columns": null,
            "grid_template_rows": null,
            "height": null,
            "justify_content": null,
            "justify_items": null,
            "left": null,
            "margin": null,
            "max_height": null,
            "max_width": null,
            "min_height": null,
            "min_width": null,
            "object_fit": null,
            "object_position": null,
            "order": null,
            "overflow": null,
            "overflow_x": null,
            "overflow_y": null,
            "padding": null,
            "right": null,
            "top": null,
            "visibility": null,
            "width": null
          }
        },
        "45bf2b41a6264035a8e139259e5b5d08": {
          "model_module": "@jupyter-widgets/controls",
          "model_name": "DescriptionStyleModel",
          "model_module_version": "1.5.0",
          "state": {
            "_model_module": "@jupyter-widgets/controls",
            "_model_module_version": "1.5.0",
            "_model_name": "DescriptionStyleModel",
            "_view_count": null,
            "_view_module": "@jupyter-widgets/base",
            "_view_module_version": "1.2.0",
            "_view_name": "StyleView",
            "description_width": ""
          }
        }
      }
    },
    "accelerator": "GPU"
  },
  "cells": [
    {
      "cell_type": "markdown",
      "source": [
        "# **Sentiment Analysis**"
      ],
      "metadata": {
        "id": "8e-w1lprq3Zo"
      }
    },
    {
      "cell_type": "markdown",
      "source": [
        "we will build model to perform sentimen analysis -- a subset of text classification where the task is to detect if a given sentence is positive or negative ---using **pytroch** and **torchtext**"
      ],
      "metadata": {
        "id": "RefteReGrB3M"
      }
    },
    {
      "cell_type": "markdown",
      "source": [
        "**using IMBD dataset(using dataset library)**"
      ],
      "metadata": {
        "id": "KLndhq7Frdjr"
      }
    },
    {
      "cell_type": "markdown",
      "source": [
        "# **WorkFlow**"
      ],
      "metadata": {
        "id": "B2eXzzmpsJ_h"
      }
    },
    {
      "cell_type": "markdown",
      "source": [
        "0. importing important liberaries\n",
        "1. Preparing Data\n",
        "2. Build A model\n",
        "3. 3.Loss Function and Optimizer\n",
        "4. training And Evaluate Functions\n",
        "5. Starting Training Loop\n",
        "6. Visulizing Our Model\n",
        "7. Testing model ,with new sentence (sentiment analysis)"
      ],
      "metadata": {
        "id": "8ICCQ24TsMkb"
      }
    },
    {
      "cell_type": "markdown",
      "source": [
        "# **0.Importing Important modules(libraries etc)**"
      ],
      "metadata": {
        "id": "8DjYlKwStKSR"
      }
    },
    {
      "cell_type": "code",
      "source": [
        "!pip install datasets"
      ],
      "metadata": {
        "id": "vG99rAG5isS1",
        "colab": {
          "base_uri": "https://localhost:8080/"
        },
        "outputId": "de6e345a-23e0-4e0e-c3c4-ce9c5153c201"
      },
      "execution_count": 1,
      "outputs": [
        {
          "output_type": "stream",
          "name": "stdout",
          "text": [
            "Collecting datasets\n",
            "  Downloading datasets-2.18.0-py3-none-any.whl (510 kB)\n",
            "\u001b[2K     \u001b[90m━━━━━━━━━━━━━━━━━━━━━━━━━━━━━━━━━━━━━━━━\u001b[0m \u001b[32m510.5/510.5 kB\u001b[0m \u001b[31m3.6 MB/s\u001b[0m eta \u001b[36m0:00:00\u001b[0m\n",
            "\u001b[?25hRequirement already satisfied: filelock in /usr/local/lib/python3.10/dist-packages (from datasets) (3.13.4)\n",
            "Requirement already satisfied: numpy>=1.17 in /usr/local/lib/python3.10/dist-packages (from datasets) (1.25.2)\n",
            "Requirement already satisfied: pyarrow>=12.0.0 in /usr/local/lib/python3.10/dist-packages (from datasets) (14.0.2)\n",
            "Requirement already satisfied: pyarrow-hotfix in /usr/local/lib/python3.10/dist-packages (from datasets) (0.6)\n",
            "Collecting dill<0.3.9,>=0.3.0 (from datasets)\n",
            "  Downloading dill-0.3.8-py3-none-any.whl (116 kB)\n",
            "\u001b[2K     \u001b[90m━━━━━━━━━━━━━━━━━━━━━━━━━━━━━━━━━━━━━━━━\u001b[0m \u001b[32m116.3/116.3 kB\u001b[0m \u001b[31m14.9 MB/s\u001b[0m eta \u001b[36m0:00:00\u001b[0m\n",
            "\u001b[?25hRequirement already satisfied: pandas in /usr/local/lib/python3.10/dist-packages (from datasets) (2.0.3)\n",
            "Requirement already satisfied: requests>=2.19.0 in /usr/local/lib/python3.10/dist-packages (from datasets) (2.31.0)\n",
            "Requirement already satisfied: tqdm>=4.62.1 in /usr/local/lib/python3.10/dist-packages (from datasets) (4.66.2)\n",
            "Collecting xxhash (from datasets)\n",
            "  Downloading xxhash-3.4.1-cp310-cp310-manylinux_2_17_x86_64.manylinux2014_x86_64.whl (194 kB)\n",
            "\u001b[2K     \u001b[90m━━━━━━━━━━━━━━━━━━━━━━━━━━━━━━━━━━━━━━━━\u001b[0m \u001b[32m194.1/194.1 kB\u001b[0m \u001b[31m14.4 MB/s\u001b[0m eta \u001b[36m0:00:00\u001b[0m\n",
            "\u001b[?25hCollecting multiprocess (from datasets)\n",
            "  Downloading multiprocess-0.70.16-py310-none-any.whl (134 kB)\n",
            "\u001b[2K     \u001b[90m━━━━━━━━━━━━━━━━━━━━━━━━━━━━━━━━━━━━━━━━\u001b[0m \u001b[32m134.8/134.8 kB\u001b[0m \u001b[31m13.2 MB/s\u001b[0m eta \u001b[36m0:00:00\u001b[0m\n",
            "\u001b[?25hRequirement already satisfied: fsspec[http]<=2024.2.0,>=2023.1.0 in /usr/local/lib/python3.10/dist-packages (from datasets) (2023.6.0)\n",
            "Requirement already satisfied: aiohttp in /usr/local/lib/python3.10/dist-packages (from datasets) (3.9.3)\n",
            "Requirement already satisfied: huggingface-hub>=0.19.4 in /usr/local/lib/python3.10/dist-packages (from datasets) (0.20.3)\n",
            "Requirement already satisfied: packaging in /usr/local/lib/python3.10/dist-packages (from datasets) (24.0)\n",
            "Requirement already satisfied: pyyaml>=5.1 in /usr/local/lib/python3.10/dist-packages (from datasets) (6.0.1)\n",
            "Requirement already satisfied: aiosignal>=1.1.2 in /usr/local/lib/python3.10/dist-packages (from aiohttp->datasets) (1.3.1)\n",
            "Requirement already satisfied: attrs>=17.3.0 in /usr/local/lib/python3.10/dist-packages (from aiohttp->datasets) (23.2.0)\n",
            "Requirement already satisfied: frozenlist>=1.1.1 in /usr/local/lib/python3.10/dist-packages (from aiohttp->datasets) (1.4.1)\n",
            "Requirement already satisfied: multidict<7.0,>=4.5 in /usr/local/lib/python3.10/dist-packages (from aiohttp->datasets) (6.0.5)\n",
            "Requirement already satisfied: yarl<2.0,>=1.0 in /usr/local/lib/python3.10/dist-packages (from aiohttp->datasets) (1.9.4)\n",
            "Requirement already satisfied: async-timeout<5.0,>=4.0 in /usr/local/lib/python3.10/dist-packages (from aiohttp->datasets) (4.0.3)\n",
            "Requirement already satisfied: typing-extensions>=3.7.4.3 in /usr/local/lib/python3.10/dist-packages (from huggingface-hub>=0.19.4->datasets) (4.11.0)\n",
            "Requirement already satisfied: charset-normalizer<4,>=2 in /usr/local/lib/python3.10/dist-packages (from requests>=2.19.0->datasets) (3.3.2)\n",
            "Requirement already satisfied: idna<4,>=2.5 in /usr/local/lib/python3.10/dist-packages (from requests>=2.19.0->datasets) (3.6)\n",
            "Requirement already satisfied: urllib3<3,>=1.21.1 in /usr/local/lib/python3.10/dist-packages (from requests>=2.19.0->datasets) (2.0.7)\n",
            "Requirement already satisfied: certifi>=2017.4.17 in /usr/local/lib/python3.10/dist-packages (from requests>=2.19.0->datasets) (2024.2.2)\n",
            "Requirement already satisfied: python-dateutil>=2.8.2 in /usr/local/lib/python3.10/dist-packages (from pandas->datasets) (2.8.2)\n",
            "Requirement already satisfied: pytz>=2020.1 in /usr/local/lib/python3.10/dist-packages (from pandas->datasets) (2023.4)\n",
            "Requirement already satisfied: tzdata>=2022.1 in /usr/local/lib/python3.10/dist-packages (from pandas->datasets) (2024.1)\n",
            "Requirement already satisfied: six>=1.5 in /usr/local/lib/python3.10/dist-packages (from python-dateutil>=2.8.2->pandas->datasets) (1.16.0)\n",
            "Installing collected packages: xxhash, dill, multiprocess, datasets\n",
            "Successfully installed datasets-2.18.0 dill-0.3.8 multiprocess-0.70.16 xxhash-3.4.1\n"
          ]
        }
      ]
    },
    {
      "cell_type": "code",
      "source": [
        "import collections # need defaultdict from collections so thats why we are using it\n",
        "import datasets # module getting and handling datasets\n",
        "import matplotlib.pyplot as plt # plotting our results\n",
        "import numpy as np # playing with numbers\n",
        "import torch #playing with tensors\n",
        "import torch.nn as nn # for neural  networks\n",
        "import torch.optim as optim #for neural network optimers\n",
        "import torchtext # for text processing\n",
        "import tqdm # for making progress bars"
      ],
      "metadata": {
        "id": "RrHp0Orju6tC"
      },
      "execution_count": 2,
      "outputs": []
    },
    {
      "cell_type": "markdown",
      "source": [
        "# **1 Preparing Data**"
      ],
      "metadata": {
        "id": "aEzIKUmNr6OL"
      }
    },
    {
      "cell_type": "markdown",
      "source": [
        "in preparing data there are also lot of other steps:<br>\n",
        "1.1 **Loading Data** <br>\n",
        "1.2 **Tokenizing data**<br>\n",
        "1.3 **creating data splits**<br>\n",
        "1.4 **creating a vocabulary**<br>\n",
        "1.5 **numericalizing data**<br>\n",
        "1.6 **converting into tensors**<br>\n",
        "1.6 **creating the data loader**<br>\n"
      ],
      "metadata": {
        "id": "fRgQnvXrsdJZ"
      }
    },
    {
      "cell_type": "markdown",
      "source": [
        "# **1.1 Loading the data**"
      ],
      "metadata": {
        "id": "HC5ZOWS3ue5K"
      }
    },
    {
      "cell_type": "code",
      "source": [
        "train_data, test_data = datasets.load_dataset(\"imdb\", split=[\"train\", \"test\"])"
      ],
      "metadata": {
        "id": "6LJ_dffcisMF",
        "colab": {
          "base_uri": "https://localhost:8080/",
          "height": 365,
          "referenced_widgets": [
            "7e5d0c5796614202aefab955fbefb3d6",
            "3b993692e49d4a3891c19b1a7550407f",
            "285ac76ceb77457f912678ad4b9fdf75",
            "48da7e06259f472189fe196a54867964",
            "07919af687f54b1484cc3ab60c5ddf7d",
            "b3aef638e8ac491284a97d8c4820c440",
            "67b5812624fe43f4b7a8f3d1312d7f97",
            "8c2a9094e6ad4e6f98987e916f3a1f58",
            "752abdf097014861ae00bc04cff4ba5b",
            "f87e9df0da8145ca942a981caaf53645",
            "5506baa2e7ee4e908187dc08b261ecec",
            "b542509c66094640b2a13b2ea8c4d2c1",
            "2e5ad317f4f34334bb4182f2dceb4ec6",
            "cc373869478142088d324796cc5746b6",
            "70dce0c2bb7448ad82d9e6c43e4e73a0",
            "5e3ddcb87e9746e28edf2bfa7e1f03b1",
            "a30bb25559ca48d5ac6694db3d2670a9",
            "3e37e71da8c74f17bc8581478f37016b",
            "d1d2b74abb914c22ad1f1b2561955168",
            "2a14a65ffd2345d88647932fee1324cf",
            "5df90f69e80948a582e7e1379a14590a",
            "2332e6d7c5b84952bfde0a82b60fc670",
            "3da38c5460e54c6e9b57b0231616f430",
            "7f194254b0ab440fba4648fd75e620c1",
            "587e5db10512415986a5d20cf8e7a8d4",
            "d0187671bbbb4b0ab31221d6ab81fc3f",
            "cb522877797747209532ee4e0fed0a12",
            "6ea05bd898b34c79a9587fbd9223b516",
            "4d7ad577172f4a99bb7f266639c532ef",
            "52e01bda952e4d13aab2cdf5e440ef8b",
            "8988a2f4be6a45f7a502f59c0c7450a1",
            "f9480af1afb54ae4bfc8310a9dddde0e",
            "6462003e0c6044379916fad55773c3a6",
            "37e6a6d5fda84349873875556a1aa016",
            "f1391e88dc4442c4a066753015fb5410",
            "e6edab56b15e42469f0afac2866c9a17",
            "2a58eb2b258f48c09c1d61fd385aaad9",
            "bf88f407ef15435cb8a40aec14f8f7b7",
            "732abc3b824e44a988c1b36256034a5d",
            "6af15c58fca24341b6be904ad2b3e24d",
            "2aba0deb650048fb8952f63d32026918",
            "f6facabe60b5410db11b3ba07db3f6db",
            "0133b560bd4546d1ba7e40c9652f4acd",
            "3fe8c4141ed44046b069a398639d5620",
            "58289ad6ff824186a135c83376b4a0de",
            "830adcd00ed442ea94d5d1d0e92bd338",
            "7cb9b4ab4b4840239828c5accc6756aa",
            "3a9cec3b31f943fdb8fccb6a71c94d66",
            "ba4685d70e1448069d38d653d53eab15",
            "9b8f0dc259da400b9cdabe3e15c1da24",
            "7025dd2599894c2bb842c970e6588cb2",
            "10b4d583622c44438592ca41fc88fa82",
            "27e344e06a524472964551cdb526bdd8",
            "77bfe3538060432a8db42e703a033cfa",
            "7577081b249d4fc9835652b26fb3ba2d",
            "a58c76ae540e47f7b176b32151613827",
            "2d8738fcac81427fb9d39616f6c95b36",
            "071674be5a034e7894a6824a0dec9cae",
            "d60ad8e30747434a8bfca84c7c96711c",
            "0b5b78a392dc4a95ae357c553db389af",
            "0ce1fba0ed6045748c6e49cfc0ffadc3",
            "dd0d38df38db4a5c88dce9041e4fdd2a",
            "5a1c2f9345a046479335a2bec7bfd038",
            "897e3bb59f954bef8bbce120466dea32",
            "3a38b9a407bb4677a08017ed8af0e5fd",
            "a3eb0d91edf24bccab14517015ce4dbd",
            "0d7d7197f1fb4c4aa6ff69b216b0563c",
            "cc6417106275496d95e370f9486d8e11",
            "f65fa5f323664aaf83dc1c60d1d2648e",
            "83b1250ca7ca420cb7916b2eb2104797",
            "12eb5a4b17494160a1b60b16a7630f13",
            "eaaa94ed058b418d9e0d8cc133485c3e",
            "cbb58868e29245cfa480cb716b40ccd5",
            "6e39b1d4a99341d7b48f29e30a161d8f",
            "025c59ab2f0f408b95c2ad82ee421269",
            "67426a2421e3472e983d1fdb51dc4656",
            "f7bd903e267741fbadc1d3415bfdc52f"
          ]
        },
        "outputId": "53c485d4-6523-4343-e2ca-ab78067f9406"
      },
      "execution_count": 3,
      "outputs": [
        {
          "output_type": "stream",
          "name": "stderr",
          "text": [
            "/usr/local/lib/python3.10/dist-packages/huggingface_hub/utils/_token.py:88: UserWarning: \n",
            "The secret `HF_TOKEN` does not exist in your Colab secrets.\n",
            "To authenticate with the Hugging Face Hub, create a token in your settings tab (https://huggingface.co/settings/tokens), set it as secret in your Google Colab and restart your session.\n",
            "You will be able to reuse this secret in all of your notebooks.\n",
            "Please note that authentication is recommended but still optional to access public models or datasets.\n",
            "  warnings.warn(\n"
          ]
        },
        {
          "output_type": "display_data",
          "data": {
            "text/plain": [
              "Downloading readme:   0%|          | 0.00/7.81k [00:00<?, ?B/s]"
            ],
            "application/vnd.jupyter.widget-view+json": {
              "version_major": 2,
              "version_minor": 0,
              "model_id": "7e5d0c5796614202aefab955fbefb3d6"
            }
          },
          "metadata": {}
        },
        {
          "output_type": "display_data",
          "data": {
            "text/plain": [
              "Downloading data:   0%|          | 0.00/21.0M [00:00<?, ?B/s]"
            ],
            "application/vnd.jupyter.widget-view+json": {
              "version_major": 2,
              "version_minor": 0,
              "model_id": "b542509c66094640b2a13b2ea8c4d2c1"
            }
          },
          "metadata": {}
        },
        {
          "output_type": "display_data",
          "data": {
            "text/plain": [
              "Downloading data:   0%|          | 0.00/20.5M [00:00<?, ?B/s]"
            ],
            "application/vnd.jupyter.widget-view+json": {
              "version_major": 2,
              "version_minor": 0,
              "model_id": "3da38c5460e54c6e9b57b0231616f430"
            }
          },
          "metadata": {}
        },
        {
          "output_type": "display_data",
          "data": {
            "text/plain": [
              "Downloading data:   0%|          | 0.00/42.0M [00:00<?, ?B/s]"
            ],
            "application/vnd.jupyter.widget-view+json": {
              "version_major": 2,
              "version_minor": 0,
              "model_id": "37e6a6d5fda84349873875556a1aa016"
            }
          },
          "metadata": {}
        },
        {
          "output_type": "display_data",
          "data": {
            "text/plain": [
              "Generating train split:   0%|          | 0/25000 [00:00<?, ? examples/s]"
            ],
            "application/vnd.jupyter.widget-view+json": {
              "version_major": 2,
              "version_minor": 0,
              "model_id": "58289ad6ff824186a135c83376b4a0de"
            }
          },
          "metadata": {}
        },
        {
          "output_type": "display_data",
          "data": {
            "text/plain": [
              "Generating test split:   0%|          | 0/25000 [00:00<?, ? examples/s]"
            ],
            "application/vnd.jupyter.widget-view+json": {
              "version_major": 2,
              "version_minor": 0,
              "model_id": "a58c76ae540e47f7b176b32151613827"
            }
          },
          "metadata": {}
        },
        {
          "output_type": "display_data",
          "data": {
            "text/plain": [
              "Generating unsupervised split:   0%|          | 0/50000 [00:00<?, ? examples/s]"
            ],
            "application/vnd.jupyter.widget-view+json": {
              "version_major": 2,
              "version_minor": 0,
              "model_id": "0d7d7197f1fb4c4aa6ff69b216b0563c"
            }
          },
          "metadata": {}
        }
      ]
    },
    {
      "cell_type": "markdown",
      "source": [
        "# **1.2 Tokenize you data or (Tokenization)**"
      ],
      "metadata": {
        "id": "lxfIO2vxwj9G"
      }
    },
    {
      "cell_type": "code",
      "source": [
        "tokenizer = torchtext.data.utils.get_tokenizer(\"basic_english\")"
      ],
      "metadata": {
        "id": "KFK1DOzSisJb"
      },
      "execution_count": 4,
      "outputs": []
    },
    {
      "cell_type": "code",
      "source": [
        "def tokenize_example(example, tokenizer, max_length):\n",
        "    tokens = tokenizer(example[\"text\"])[:max_length]\n",
        "    length = len(tokens)\n",
        "    return {\"tokens\": tokens, \"length\": length}"
      ],
      "metadata": {
        "id": "69c3eUZki8kd"
      },
      "execution_count": 5,
      "outputs": []
    },
    {
      "cell_type": "code",
      "source": [
        "max_length = 256\n",
        "\n",
        "train_data = train_data.map(\n",
        "    tokenize_example, fn_kwargs={\"tokenizer\": tokenizer, \"max_length\": max_length}\n",
        ")\n",
        "test_data = test_data.map(\n",
        "    tokenize_example, fn_kwargs={\"tokenizer\": tokenizer, \"max_length\": max_length}\n",
        ")"
      ],
      "metadata": {
        "id": "Pf9DeFkii8f9",
        "colab": {
          "base_uri": "https://localhost:8080/",
          "height": 81,
          "referenced_widgets": [
            "3f3107c8d45b4f6794b7d5bf576fee41",
            "115165aaf2ed45e4adf0862a37a28501",
            "ebd91dbcd5354859bc73855ef6a985a8",
            "569ce4ff6b2746fcb299d6533a3267d4",
            "cf7bddb4a64848fe939713cb5794a3f7",
            "d05c0051d7c34779ba04b123231d2c44",
            "e00ba6f7c7624aee828bb7e66ff583a8",
            "7d89772f09324d8580d1f734952bf18e",
            "45159e2d8af24cd1b832cc03063a5e7b",
            "53f35646dd7347788b80e8575b3a4356",
            "46cd8d72d3844d1eafe466bf5c231395",
            "ef2b1a13090b45a0904f6d3408500ad5",
            "c3da5f791db14a3c94de65a0c4690a04",
            "77b6d1ed32994d4885b6b12ca0be4a56",
            "31dce7c6e5f94f97a158ae9a47b2238b",
            "e3a1d21aa7a34d6889098097887107f6",
            "145c72a0224f4f55b1c0d849b274676f",
            "058dc56a3a614e358c4d82a5d1b582bd",
            "0ddd122e3c74456eaa58979bd62327e7",
            "d37b1670fb7f44a2b37f8e3ce979847f",
            "f2a12a342b074180ad94a2ec98242247",
            "c4845c44355e48c4830df29ff5c7310a"
          ]
        },
        "outputId": "126b20f7-4585-437c-f55d-2c4c044e52dc"
      },
      "execution_count": 6,
      "outputs": [
        {
          "output_type": "display_data",
          "data": {
            "text/plain": [
              "Map:   0%|          | 0/25000 [00:00<?, ? examples/s]"
            ],
            "application/vnd.jupyter.widget-view+json": {
              "version_major": 2,
              "version_minor": 0,
              "model_id": "3f3107c8d45b4f6794b7d5bf576fee41"
            }
          },
          "metadata": {}
        },
        {
          "output_type": "display_data",
          "data": {
            "text/plain": [
              "Map:   0%|          | 0/25000 [00:00<?, ? examples/s]"
            ],
            "application/vnd.jupyter.widget-view+json": {
              "version_major": 2,
              "version_minor": 0,
              "model_id": "ef2b1a13090b45a0904f6d3408500ad5"
            }
          },
          "metadata": {}
        }
      ]
    },
    {
      "cell_type": "markdown",
      "source": [
        "# **1.3 Creating Validation Data**"
      ],
      "metadata": {
        "id": "h7AiqgzCyrvb"
      }
    },
    {
      "cell_type": "code",
      "source": [
        "test_size = 0.25\n",
        "\n",
        "train_valid_data = train_data.train_test_split(test_size=test_size)\n",
        "train_data = train_valid_data[\"train\"]\n",
        "valid_data = train_valid_data[\"test\"]"
      ],
      "metadata": {
        "id": "UbHE1QCFi8ZY"
      },
      "execution_count": 7,
      "outputs": []
    },
    {
      "cell_type": "markdown",
      "source": [
        "# **1.4 Creating a Vocabulary**"
      ],
      "metadata": {
        "id": "wwQsiSQr2G-H"
      }
    },
    {
      "cell_type": "code",
      "source": [
        "min_freq = 5\n",
        "special_tokens = [\"<unk>\", \"<pad>\"]\n",
        "\n",
        "vocab = torchtext.vocab.build_vocab_from_iterator(\n",
        "    train_data[\"tokens\"],\n",
        "    min_freq=min_freq,\n",
        "    specials=special_tokens,\n",
        ")"
      ],
      "metadata": {
        "id": "4WPUovcRi8Vx"
      },
      "execution_count": 8,
      "outputs": []
    },
    {
      "cell_type": "code",
      "source": [
        "unk_index = vocab[\"<unk>\"]\n",
        "pad_index = vocab[\"<pad>\"]"
      ],
      "metadata": {
        "id": "fRtgSeYJi8Sx"
      },
      "execution_count": 9,
      "outputs": []
    },
    {
      "cell_type": "code",
      "source": [
        "vocab.set_default_index(unk_index)"
      ],
      "metadata": {
        "id": "vJEMyYzti8QT"
      },
      "execution_count": 10,
      "outputs": []
    },
    {
      "cell_type": "markdown",
      "source": [
        "# **1.5 Numericalizing Our Data**"
      ],
      "metadata": {
        "id": "Uh25zsiw3Zx0"
      }
    },
    {
      "cell_type": "code",
      "source": [
        "def numericalize_example(example, vocab):\n",
        "    ids = vocab.lookup_indices(example[\"tokens\"])\n",
        "    return {\"ids\": ids}"
      ],
      "metadata": {
        "id": "sXFWMNhci8Na"
      },
      "execution_count": 11,
      "outputs": []
    },
    {
      "cell_type": "code",
      "source": [
        "train_data = train_data.map(numericalize_example, fn_kwargs={\"vocab\": vocab})\n",
        "valid_data = valid_data.map(numericalize_example, fn_kwargs={\"vocab\": vocab})\n",
        "test_data = test_data.map(numericalize_example, fn_kwargs={\"vocab\": vocab})"
      ],
      "metadata": {
        "id": "u3rv36ggi8KP",
        "colab": {
          "base_uri": "https://localhost:8080/",
          "height": 113,
          "referenced_widgets": [
            "29c3b6fac92e4277800968a656756fb2",
            "b899a2d949ae4894b09f49a1551a5f2b",
            "a4712c3a7a034bcb9109a34c4db5ae72",
            "d5a8209025c54bc5af66c93f8932e3dc",
            "e00fc721197a4a248b4340f7d4239449",
            "abb2f4e54b1f47948211efd25a91c56c",
            "b656cfc5d11542288598e7dd2aaee1f0",
            "67238dc058e546d09e184890d741b0aa",
            "0e535739d10d46d79ac04655e9e11995",
            "b026496bbeb84b3aa0747032c5acbac3",
            "22568047cff147acb49ba1ec9cf3a847",
            "76727b89346840428854679f78771c60",
            "043f453abc414ed4a88542bbb54b569a",
            "70b838faa055468e84801dbd39cadd08",
            "787e063df4694359a6d46ebdb1a9d25c",
            "40d4ba7646ad4ceca0ef5be14343d652",
            "bd80a1f7f6c044028818009b373bc000",
            "dbfd9707380b4a37966e5690ff2a38b9",
            "c4ab37035788480c953748df9dfbbeda",
            "ed1c0d4bfc474fd799b8a450d1537506",
            "600c04adc1d040b0ba64a4f267eab7e1",
            "0850b1e0c26b446c88c006a58042f615",
            "fbe99613c1934eaf815f66ef87be386c",
            "c2d79324eb1e41aabc7e9da153511f27",
            "105ad59a60f54a01b81b8dd69af1787c",
            "9fd1568d9a2c4c28be16cbd92a07baba",
            "8a08b83c2ae14fd79f21bf3f1f23d38a",
            "2ca771e4bec5492aa0b811fadc8c0815",
            "0672cc33e4b4459bbb9a3e7b6baf4c17",
            "06f7fe237884447cb268f08fb87c7eac",
            "fcae934c233a405f94c87af5914d250f",
            "f52fcde2a2524b2a9485485007a405df",
            "45bf2b41a6264035a8e139259e5b5d08"
          ]
        },
        "outputId": "a7f013c3-2ee1-4c7a-8e5b-02c4572615e0"
      },
      "execution_count": 12,
      "outputs": [
        {
          "output_type": "display_data",
          "data": {
            "text/plain": [
              "Map:   0%|          | 0/18750 [00:00<?, ? examples/s]"
            ],
            "application/vnd.jupyter.widget-view+json": {
              "version_major": 2,
              "version_minor": 0,
              "model_id": "29c3b6fac92e4277800968a656756fb2"
            }
          },
          "metadata": {}
        },
        {
          "output_type": "display_data",
          "data": {
            "text/plain": [
              "Map:   0%|          | 0/6250 [00:00<?, ? examples/s]"
            ],
            "application/vnd.jupyter.widget-view+json": {
              "version_major": 2,
              "version_minor": 0,
              "model_id": "76727b89346840428854679f78771c60"
            }
          },
          "metadata": {}
        },
        {
          "output_type": "display_data",
          "data": {
            "text/plain": [
              "Map:   0%|          | 0/25000 [00:00<?, ? examples/s]"
            ],
            "application/vnd.jupyter.widget-view+json": {
              "version_major": 2,
              "version_minor": 0,
              "model_id": "fbe99613c1934eaf815f66ef87be386c"
            }
          },
          "metadata": {}
        }
      ]
    },
    {
      "cell_type": "markdown",
      "source": [
        "# **1.6 Converting into tensors**"
      ],
      "metadata": {
        "id": "NTQkA5Qo4-W2"
      }
    },
    {
      "cell_type": "code",
      "source": [
        "train_data = train_data.with_format(type=\"torch\", columns=[\"ids\", \"label\", \"length\"])\n",
        "valid_data = valid_data.with_format(type=\"torch\", columns=[\"ids\", \"label\", \"length\"])\n",
        "test_data = test_data.with_format(type=\"torch\", columns=[\"ids\", \"label\", \"length\"])"
      ],
      "metadata": {
        "id": "CTQ1f4Cmi8G4"
      },
      "execution_count": 13,
      "outputs": []
    },
    {
      "cell_type": "code",
      "source": [
        "train_data[0]"
      ],
      "metadata": {
        "id": "4Y1RoaQ9i8Dt",
        "colab": {
          "base_uri": "https://localhost:8080/"
        },
        "outputId": "2f74d79a-7b6c-45f8-c9ad-5e4bff4c93aa"
      },
      "execution_count": 14,
      "outputs": [
        {
          "output_type": "execute_result",
          "data": {
            "text/plain": [
              "{'label': tensor(1),\n",
              " 'length': tensor(117),\n",
              " 'ids': tensor([   40,  4500,    50,    40,  8558,    10,     5,  7130,  3594,    23,\n",
              "            44,     5,  2165,     7,  5199,  1347,     6,   921,  1074,     4,\n",
              "          1331, 10851,     6, 21135,  1911,     3,    39,  2060,     8,   388,\n",
              "            42,   193,    64,    13,     5,  9948,  1323,   444,     4,     6,\n",
              "            11,     9,    16,  1270,   356,    40,  2123,    26,     3,     0,\n",
              "             4,     6,  1723,   419,   398,   386,  4763,     3,     2,   462,\n",
              "           113,    30,   292,  1798,     6,  3111,    19,     5,  1222,   253,\n",
              "             7,   226,     0,    21,  5563,     0,     6,     0,  2520,     3,\n",
              "            14,    23,    51,    43,    85,  1563,     4,    43,    85,  3145,\n",
              "          1954,     6, 17262,  2538,  3261,   530,     8,    11,     3,    12,\n",
              "            59,     9,    26,   389,    11,   539,   213,    36,     2,   122,\n",
              "          5563,  2026,    18,     7,    37,    65,    36])}"
            ]
          },
          "metadata": {},
          "execution_count": 14
        }
      ]
    },
    {
      "cell_type": "markdown",
      "source": [
        "# **1.7 Creating Data Loaders**"
      ],
      "metadata": {
        "id": "Y6Fq-9PW6QVK"
      }
    },
    {
      "cell_type": "code",
      "source": [
        "def get_collate_fn(pad_index):\n",
        "    def collate_fn(batch):\n",
        "        batch_ids = [i[\"ids\"] for i in batch]\n",
        "        batch_ids = nn.utils.rnn.pad_sequence(\n",
        "            batch_ids, padding_value=pad_index, batch_first=True\n",
        "        )\n",
        "        batch_length = [i[\"length\"] for i in batch]\n",
        "        batch_length = torch.stack(batch_length)\n",
        "        batch_label = [i[\"label\"] for i in batch]\n",
        "        batch_label = torch.stack(batch_label)\n",
        "        batch = {\"ids\": batch_ids, \"length\": batch_length, \"label\": batch_label}\n",
        "        return batch\n",
        "\n",
        "    return collate_fn"
      ],
      "metadata": {
        "id": "Iwr4qQ_Ri8Ai"
      },
      "execution_count": 15,
      "outputs": []
    },
    {
      "cell_type": "code",
      "source": [
        "def get_data_loader(dataset, batch_size, pad_index, shuffle=False):\n",
        "    collate_fn = get_collate_fn(pad_index)\n",
        "    data_loader = torch.utils.data.DataLoader(\n",
        "        dataset=dataset,\n",
        "        batch_size=batch_size,\n",
        "        collate_fn=collate_fn,\n",
        "        shuffle=shuffle,\n",
        "    )\n",
        "    return data_loader"
      ],
      "metadata": {
        "id": "sVrqjIbmi799"
      },
      "execution_count": 16,
      "outputs": []
    },
    {
      "cell_type": "code",
      "source": [
        "batch_size = 512\n",
        "\n",
        "train_data_loader = get_data_loader(train_data, batch_size, pad_index, shuffle=True)\n",
        "valid_data_loader = get_data_loader(valid_data, batch_size, pad_index)\n",
        "test_data_loader = get_data_loader(test_data, batch_size, pad_index)"
      ],
      "metadata": {
        "id": "m5sehj37i76q"
      },
      "execution_count": 17,
      "outputs": []
    },
    {
      "cell_type": "markdown",
      "source": [
        "# **2. Build the Model**"
      ],
      "metadata": {
        "id": "3reX3pra9nLy"
      }
    },
    {
      "cell_type": "markdown",
      "source": [
        "**Example Sentence**"
      ],
      "metadata": {
        "id": "CLPCHM4saDpp"
      }
    },
    {
      "cell_type": "markdown",
      "source": [
        "**mujhe 2012 main sana sey allied school main peyaar howa, pir wo kidnaap ho gi , wo pir 2016 main mujhe alizey sey peyaar ho geya, us ney time pass kiya aur chor diya, pir ayesha sey baat ban gayi , likin mujhe us ki harkatain achi nhai lagi , pir ik din yakdam kidnapers ney pehali wali ko chor diya , aur hum dono ney shaddi kar li**"
      ],
      "metadata": {
        "id": "NRXH6knnaHHQ"
      }
    },
    {
      "cell_type": "markdown",
      "source": [
        "**LSTM**"
      ],
      "metadata": {
        "id": "95zre2OQa6U6"
      }
    },
    {
      "cell_type": "markdown",
      "source": [
        "![image.png](data:image/png;base64,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)"
      ],
      "metadata": {
        "id": "wbv-1v4lbupL"
      }
    },
    {
      "cell_type": "code",
      "source": [
        "class LSTM(nn.Module):\n",
        "    def __init__(\n",
        "        self,\n",
        "        vocab_size,\n",
        "        embedding_dim,\n",
        "        hidden_dim,\n",
        "        output_dim,\n",
        "        n_layers,\n",
        "        bidirectional,\n",
        "        dropout_rate,\n",
        "        pad_index,\n",
        "    ):\n",
        "        super().__init__()\n",
        "        self.embedding = nn.Embedding(vocab_size, embedding_dim, padding_idx=pad_index)\n",
        "        self.lstm = nn.LSTM(\n",
        "            embedding_dim,\n",
        "            hidden_dim,\n",
        "            n_layers,\n",
        "            bidirectional=bidirectional,\n",
        "            dropout=dropout_rate,\n",
        "            batch_first=True,\n",
        "        )\n",
        "        self.fc = nn.Linear(hidden_dim * 2 if bidirectional else hidden_dim, output_dim)\n",
        "        self.dropout = nn.Dropout(dropout_rate)\n",
        "\n",
        "    def forward(self, ids, length):\n",
        "        # ids = [batch size, seq len]\n",
        "        # length = [batch size]\n",
        "        embedded = self.dropout(self.embedding(ids))\n",
        "        # embedded = [batch size, seq len, embedding dim]\n",
        "        packed_embedded = nn.utils.rnn.pack_padded_sequence(\n",
        "            embedded, length, batch_first=True, enforce_sorted=False\n",
        "        )\n",
        "        packed_output, (hidden, cell) = self.lstm(packed_embedded)\n",
        "        # hidden = [n layers * n directions, batch size, hidden dim]\n",
        "        # cell = [n layers * n directions, batch size, hidden dim]\n",
        "        output, output_length = nn.utils.rnn.pad_packed_sequence(packed_output)\n",
        "        # output = [batch size, seq len, hidden dim * n directions]\n",
        "        if self.lstm.bidirectional:\n",
        "            hidden = self.dropout(torch.cat([hidden[-1], hidden[-2]], dim=-1))\n",
        "            # hidden = [batch size, hidden dim * 2]\n",
        "        else:\n",
        "            hidden = self.dropout(hidden[-1])\n",
        "            # hidden = [batch size, hidden dim]\n",
        "        prediction = self.fc(hidden)\n",
        "        # prediction = [batch size, output dim]\n",
        "        return prediction"
      ],
      "metadata": {
        "id": "EO4uWNrni737"
      },
      "execution_count": 18,
      "outputs": []
    },
    {
      "cell_type": "markdown",
      "source": [
        "# **Embedding Layer**"
      ],
      "metadata": {
        "id": "mBgtE5Xsy4t6"
      }
    },
    {
      "cell_type": "markdown",
      "source": [
        "1. **nn.Embedding** is a PyTorch module that creates an embedding layer.\n",
        "2. **vocab_size** is the size of the vocabulary (number of unique tokens).\n",
        "3. **embedding_dim** is the dimensionality of the dense embedding vectors.\n",
        "4. **padding_idx** is the index used for padding tokens, ensuring that padding tokens are ignored during training."
      ],
      "metadata": {
        "id": "ThPMv5d7y9L6"
      }
    },
    {
      "cell_type": "markdown",
      "source": [
        "**This layer converts input token indices into dense vector representations (embeddings) that capture the semantic meaning of the tokens. It learns to map each token to a point in a continuous vector space.**"
      ],
      "metadata": {
        "id": "REOhZvHy1npN"
      }
    },
    {
      "cell_type": "markdown",
      "source": [
        "# **LSTM Layer**"
      ],
      "metadata": {
        "id": "r4ZvzHwPzMvD"
      }
    },
    {
      "cell_type": "markdown",
      "source": [
        "1. **nn.LSTM** creates an LSTM layer.\n",
        "2. **embedding_dim** is the size of the input features (dimension of the embeddings).\n",
        "3. **hidden_dim** is the number of features in the hidden state of the LSTM.\n",
        "4. **n_layers** is the number of recurrent layers in the LSTM.\n",
        "5. **bidirectional** is a boolean indicating whether the LSTM is bidirectional.\n",
        "6. **dropout_rate** is the dropout probability applied to the input and recurrent connections.\n",
        "7. **batch_first=True** specifies that the input and output tensors are of shape (batch_size, seq_len, feature_dim)."
      ],
      "metadata": {
        "id": "CRIbkNy3zPuT"
      }
    },
    {
      "cell_type": "markdown",
      "source": [
        "# **Fully Connected Layer**"
      ],
      "metadata": {
        "id": "m6RgSJ6wz25l"
      }
    },
    {
      "cell_type": "markdown",
      "source": [
        "1. **nn.Linear** creates a fully connected layer.\n",
        "2. The **input dimension** of the linear layer depends on whether the LSTM is bidirectional. If bidirectional, it's hidden_dim * 2 due to concatenation; otherwise, it's just hidden_dim.\n",
        "3. **output_dim** is the dimensionality of the output tensor, typically the number of classes in a classification task."
      ],
      "metadata": {
        "id": "GwHxVPfCz7B0"
      }
    },
    {
      "cell_type": "markdown",
      "source": [
        "**This layer takes the final hidden state from the LSTM and maps it to the output dimension, which is typically the number of classes in a classification task. It performs a linear transformation to produce the final predictions.**"
      ],
      "metadata": {
        "id": "ZMT8p9uy1v9T"
      }
    },
    {
      "cell_type": "markdown",
      "source": [
        "# **Dropout:**"
      ],
      "metadata": {
        "id": "Cvs_F3qY0JQt"
      }
    },
    {
      "cell_type": "markdown",
      "source": [
        "**nn.Dropout** applies dropout to the input and recurrent connections of the LSTM as well as the embeddings and the final hidden state."
      ],
      "metadata": {
        "id": "pFM-pLqM0MEc"
      }
    },
    {
      "cell_type": "markdown",
      "source": [
        "**Dropout is applied to the embeddings and the final hidden state to regularize the model and prevent overfitting during training. It randomly sets a fraction of the input units to zero during each training iteration.**"
      ],
      "metadata": {
        "id": "p_XUdHuU1zW1"
      }
    },
    {
      "cell_type": "markdown",
      "source": [
        "# **Forward Method:**"
      ],
      "metadata": {
        "id": "z-K4BqoP0RhB"
      }
    },
    {
      "cell_type": "markdown",
      "source": [
        "# **Embedding: (embedded)**"
      ],
      "metadata": {
        "id": "5uJC8T6P0d7T"
      }
    },
    {
      "cell_type": "markdown",
      "source": [
        " Token indices are passed through the embedding layer, and dropout is applied to the embeddings."
      ],
      "metadata": {
        "id": "YmwMqTOl0anc"
      }
    },
    {
      "cell_type": "markdown",
      "source": [
        "# **Packing**"
      ],
      "metadata": {
        "id": "t3Ha-6_p0ojS"
      }
    },
    {
      "cell_type": "markdown",
      "source": [
        "**Packing:** The embedded sequences are packed to handle variable-length sequences efficiently."
      ],
      "metadata": {
        "id": "4gnrlBGX0ui0"
      }
    },
    {
      "cell_type": "markdown",
      "source": [
        "**1.nn.utils.rnn.pack_padded_sequence**<br>\n",
        "This is a function provided by PyTorch's nn.utils.rnn module specifically designed to handle sequences of variable lengths efficiently."
      ],
      "metadata": {
        "id": "u91H9u5D5hwu"
      }
    },
    {
      "cell_type": "markdown",
      "source": [
        "**It takes two main arguments:**<br>\n",
        "1. **input:** The embedded sequences to be packed. These are the output of the embedding layer, where each token index is transformed into a dense vector representation.\n",
        "2. **lengths:** A list or tensor containing the actual lengths of each sequence in the batch before padding. This information is crucial for the function to know where the sequences end and padding begins.\n",
        "This is a list or tensor containing the actual lengths of each sequence in the batch before padding.\n",
        "It is essential for correctly packing the sequences because it t"
      ],
      "metadata": {
        "id": "aZobqFvw5qr-"
      }
    },
    {
      "cell_type": "markdown",
      "source": [
        "**Additionally, there are two optional arguments:**<br>\n",
        "1. **batch_first:** A boolean indicating whether the input tensors have the batch dimension as the first dimension. If True, the input shape is assumed to be (batch_size, seq_len, embedding_dim).\n",
        "2. **enforce_sorted:** A boolean indicating whether the sequences need to be sorted by length before packing. Setting it to False means PyTorch will handle sorting internally, which can save some preprocessing time."
      ],
      "metadata": {
        "id": "KT25T09q50WW"
      }
    },
    {
      "cell_type": "markdown",
      "source": [
        "**packed_embedded:**<br>\n",
        "1. This is the output of the pack_padded_sequence function, which represents the packed version of the embedded sequences.\n",
        "2. It is a special PyTorch object that contains the packed sequence data along with metadata necessary for unpacking it later.\n",
        "3. The packed sequence format efficiently handles variable-length sequences by ignoring padding elements during computation, thus saving computational resources."
      ],
      "metadata": {
        "id": "WTIHNX_L6SuO"
      }
    },
    {
      "cell_type": "markdown",
      "source": [
        "**packing and unpacking of sequences work in PyTorch with a detailed example.**"
      ],
      "metadata": {
        "id": "_BmG_edp2-Uu"
      }
    },
    {
      "cell_type": "markdown",
      "source": [
        "**Example Setup**<br>\n",
        "Suppose we have three sequences of word embeddings (just for simplicity, let's assume embeddings are 1D and very short):<br>\n",
        "\n",
        "1. Sequence A: [1, 2, 3]\n",
        "2. Sequence B: [4, 5]\n",
        "3. Sequence C: [6]"
      ],
      "metadata": {
        "id": "i7Hm-tus3DI1"
      }
    },
    {
      "cell_type": "markdown",
      "source": [
        "**Normally,** to process these sequences in a batch, we would need to pad them to the same length. The padded version might look something like this (assuming padding with zero):"
      ],
      "metadata": {
        "id": "zsi0Oqz73W_u"
      }
    },
    {
      "cell_type": "markdown",
      "source": [
        "1. Sequence A: [1, 2, 3]\n",
        "2. Sequence B: [4, 5, 0] (padded)\n",
        "2. Sequence C: [6, 0, 0] (padded)"
      ],
      "metadata": {
        "id": "Tpjp7Dzh3Z3M"
      }
    },
    {
      "cell_type": "markdown",
      "source": [
        "**Packing the Sequences**"
      ],
      "metadata": {
        "id": "-iyI3pOt3ifc"
      }
    },
    {
      "cell_type": "markdown",
      "source": [
        "To pack these sequences, we use the pack_padded_sequence function. This function requires the sequences to be sorted by length in descending order, so we need to sort padded_sequences accordingly:"
      ],
      "metadata": {
        "id": "cniLOy_A3o4G"
      }
    },
    {
      "cell_type": "markdown",
      "source": [
        "**What Does packed_sequences Contain?**<br>\n",
        "The packed_sequences object is not a regular tensor; it's a PackedSequence object which contains:<br>\n",
        "\n",
        "1. The data from the sequences without the padding (flattened according to the lengths).<br>\n",
        "2. Batch sizes at each step.<br>\n"
      ],
      "metadata": {
        "id": "lX3tISRz34nP"
      }
    },
    {
      "cell_type": "markdown",
      "source": [
        "**For our example, packed_sequences.data would be something like:**<br>\n",
        "packed_sequences.data= tensor[1,4,6,2,5,3]"
      ],
      "metadata": {
        "id": "Fi83CGro4D4d"
      }
    },
    {
      "cell_type": "markdown",
      "source": [
        "This tensor represents the concatenated valid elements of the sequences. The LSTM would process these elements in this order, effectively ignoring padding."
      ],
      "metadata": {
        "id": "yPvtHZdk4eJS"
      }
    },
    {
      "cell_type": "markdown",
      "source": [
        "When sequences are packed, the RNN layers can skip computations over the padding tokens. This not only speeds up the training and inference processes but also reduces memory usage since fewer time steps are actually processed.\n",
        "The LSTM or other RNN layers process only the actual data points, ignoring the padding, which leads to more efficient GPU or CPU utilization."
      ],
      "metadata": {
        "id": "Ox_jYrJZ4rLd"
      }
    },
    {
      "cell_type": "markdown",
      "source": [
        "# **LSTM Processing**"
      ],
      "metadata": {
        "id": "xzMksoTo03Pi"
      }
    },
    {
      "cell_type": "markdown",
      "source": [
        "The packed sequences are passed through the LSTM layer, and the packed output is obtained."
      ],
      "metadata": {
        "id": "qdz5SyQ00_k8"
      }
    },
    {
      "cell_type": "markdown",
      "source": [
        "**packed_output:**\n",
        "1. This is the packed sequence containing all the output features from the LSTM layer for the input sequence data across all time steps. This output can be used if one needs to use the output of each time step, for example, in sequence tagging problems.\n",
        "2. The sequence is still in its packed form to maintain efficiency in subsequent operations, such as passing through another LSTM layer or processing sequences further."
      ],
      "metadata": {
        "id": "vZlfWour4sge"
      }
    },
    {
      "cell_type": "markdown",
      "source": [
        "**(hidden, cell):**\n",
        "1. These are tuples representing the final hidden state and final cell state of the LSTM for each layer and each direction."
      ],
      "metadata": {
        "id": "07UDFt_W43SW"
      }
    },
    {
      "cell_type": "markdown",
      "source": [
        "**hidden:**\n",
        "1. This tensor contains the final hidden states of the LSTM layers. If the LSTM is bidirectional, it includes the final states for both the forward and backward directions. The dimension of this tensor is [n layers * n directions, batch size, hidden dim]. This tensor is particularly important as it captures the learned features of the input sequence at the last time step (or the first for the backward pass in bidirectional LSTMs) which often is used for predictions in many tasks like sentiment analysis."
      ],
      "metadata": {
        "id": "WYGxsW9L475l"
      }
    },
    {
      "cell_type": "markdown",
      "source": [
        "**cell:**\n",
        "2. This tensor contains the final cell states of the LSTM layers, similar to the hidden states, with the same dimension. The cell state is used by the LSTM to internally control the flow of information by regulating the additions to the memory, forgetting the irrelevant parts of a previous state, and updating the current state."
      ],
      "metadata": {
        "id": "40WEovIZ5B5t"
      }
    },
    {
      "cell_type": "markdown",
      "source": [
        "# **Unpacking**"
      ],
      "metadata": {
        "id": "FyqRpu0u1CTT"
      }
    },
    {
      "cell_type": "markdown",
      "source": [
        "The packed output is unpacked to obtain the LSTM outputs."
      ],
      "metadata": {
        "id": "eIsizaQc1FPd"
      }
    },
    {
      "cell_type": "markdown",
      "source": [
        "After processing, the output is also a packed sequence. To convert it back to the padded form, use pad_packed_sequence:"
      ],
      "metadata": {
        "id": "4kbQeZPZ7Dz2"
      }
    },
    {
      "cell_type": "markdown",
      "source": [
        "After the LSTM, pad_packed_sequence is used to transform the packed sequence back to the padded sequence format. This is useful if you want to work with or examine the outputs at each timestep across all sequences."
      ],
      "metadata": {
        "id": "ROt6evjq7XkY"
      }
    },
    {
      "cell_type": "markdown",
      "source": [
        "# **Hidden State Handling**"
      ],
      "metadata": {
        "id": "1yEoW-Ly1QoU"
      }
    },
    {
      "cell_type": "markdown",
      "source": [
        " The final hidden state(s) are processed, including concatenation (if bidirectional) and dropout."
      ],
      "metadata": {
        "id": "pLrnW-981Tmr"
      }
    },
    {
      "cell_type": "markdown",
      "source": [
        "If the LSTM is bidirectional, it means that it processes the sequences both forwards and backwards, and the final hidden state contains information from both directions. Here's how it's handled:"
      ],
      "metadata": {
        "id": "V7QZStWw2Y90"
      }
    },
    {
      "cell_type": "markdown",
      "source": [
        "**Concatenation:**\n",
        "1. The final hidden state of the forward direction is accessed with hidden[-1] (which represents the last layer of the forward direction), and the final hidden state of the backward direction is accessed with hidden[-2].\n",
        "2. These two hidden states are concatenated along the last dimension (dim=-1), resulting in a tensor where the information from both directions is combined.\n",
        "3. This concatenation increases the dimensionality of the hidden state, so the resulting tensor has a shape of [batch size, hidden dim * 2].<br>\n",
        "**Dropout:**\n",
        "1. Dropout is applied to the concatenated tensor. Dropout randomly sets a fraction of the elements to zero, helping prevent overfitting by reducing the reliance of the model on specific neurons during training."
      ],
      "metadata": {
        "id": "4pEiGg_H2c9U"
      }
    },
    {
      "cell_type": "markdown",
      "source": [
        "# **Prediction**"
      ],
      "metadata": {
        "id": "MFok2NGc1WBz"
      }
    },
    {
      "cell_type": "markdown",
      "source": [
        "The processed hidden state is passed through the fully connected layer to generate the final predictions."
      ],
      "metadata": {
        "id": "e6LKWx1X1Yn8"
      }
    },
    {
      "cell_type": "markdown",
      "source": [
        "This layer takes the processed hidden states (hidden) as input. These hidden states could be from a bidirectional or unidirectional LSTM, depending on your configuration. In the case of a bidirectional LSTM, hidden will have dimensions [batch size, hidden dim * 2] due to the concatenation of the forward and backward hidden states."
      ],
      "metadata": {
        "id": "ff9DE7_C2JXM"
      }
    },
    {
      "cell_type": "markdown",
      "source": [
        "The nn.Linear layer transforms the input tensor from its original hidden state dimension to the desired output dimension (output_dim)."
      ],
      "metadata": {
        "id": "7_ljyBv42P-k"
      }
    },
    {
      "cell_type": "code",
      "source": [
        "vocab_size = len(vocab)\n",
        "embedding_dim = 300\n",
        "hidden_dim = 300\n",
        "output_dim = len(train_data.unique(\"label\"))\n",
        "n_layers = 2\n",
        "bidirectional = True\n",
        "dropout_rate = 0.5\n",
        "\n",
        "model = LSTM(\n",
        "    vocab_size,\n",
        "    embedding_dim,\n",
        "    hidden_dim,\n",
        "    output_dim,\n",
        "    n_layers,\n",
        "    bidirectional,\n",
        "    dropout_rate,\n",
        "    pad_index,\n",
        ")"
      ],
      "metadata": {
        "id": "UNI3E6kIi70i"
      },
      "execution_count": 19,
      "outputs": []
    },
    {
      "cell_type": "code",
      "source": [
        "def count_parameters(model):\n",
        "    return sum(p.numel() for p in model.parameters() if p.requires_grad)\n",
        "\n",
        "\n",
        "print(f\"The model has {count_parameters(model):,} trainable parameters\")"
      ],
      "metadata": {
        "id": "ZqVbIhZfi7xW",
        "colab": {
          "base_uri": "https://localhost:8080/"
        },
        "outputId": "76ddd21b-753d-435f-8860-752b9dfdcdad"
      },
      "execution_count": 20,
      "outputs": [
        {
          "output_type": "stream",
          "name": "stdout",
          "text": [
            "The model has 10,073,402 trainable parameters\n"
          ]
        }
      ]
    },
    {
      "cell_type": "code",
      "source": [
        "def initialize_weights(m):\n",
        "    if isinstance(m, nn.Linear):\n",
        "        nn.init.xavier_normal_(m.weight)\n",
        "        nn.init.zeros_(m.bias)\n",
        "    elif isinstance(m, nn.LSTM):\n",
        "        for name, param in m.named_parameters():\n",
        "            if \"bias\" in name:\n",
        "                nn.init.zeros_(param)\n",
        "            elif \"weight\" in name:\n",
        "                nn.init.orthogonal_(param)"
      ],
      "metadata": {
        "id": "v8AGg9fui7ub"
      },
      "execution_count": 21,
      "outputs": []
    },
    {
      "cell_type": "code",
      "source": [
        "model.apply(initialize_weights)"
      ],
      "metadata": {
        "id": "sgsZ3Adni7qw",
        "colab": {
          "base_uri": "https://localhost:8080/"
        },
        "outputId": "f119f5c4-c0dc-43f8-8c15-503e0c9fac4a"
      },
      "execution_count": 22,
      "outputs": [
        {
          "output_type": "execute_result",
          "data": {
            "text/plain": [
              "LSTM(\n",
              "  (embedding): Embedding(21542, 300, padding_idx=1)\n",
              "  (lstm): LSTM(300, 300, num_layers=2, batch_first=True, dropout=0.5, bidirectional=True)\n",
              "  (fc): Linear(in_features=600, out_features=2, bias=True)\n",
              "  (dropout): Dropout(p=0.5, inplace=False)\n",
              ")"
            ]
          },
          "metadata": {},
          "execution_count": 22
        }
      ]
    },
    {
      "cell_type": "code",
      "source": [
        "vectors = torchtext.vocab.GloVe()"
      ],
      "metadata": {
        "id": "DEcjCY1Yi7ny",
        "colab": {
          "base_uri": "https://localhost:8080/"
        },
        "outputId": "b0e55e7e-fd1a-4508-d163-f91f52b80dcd"
      },
      "execution_count": 23,
      "outputs": [
        {
          "output_type": "stream",
          "name": "stderr",
          "text": [
            ".vector_cache/glove.840B.300d.zip: 2.18GB [06:49, 5.31MB/s]                            \n",
            "100%|█████████▉| 2196016/2196017 [04:53<00:00, 7489.23it/s]\n"
          ]
        }
      ]
    },
    {
      "cell_type": "code",
      "source": [
        "pretrained_embedding = vectors.get_vecs_by_tokens(vocab.get_itos())"
      ],
      "metadata": {
        "id": "4KC5H1jri7kE"
      },
      "execution_count": 24,
      "outputs": []
    },
    {
      "cell_type": "code",
      "source": [
        "model.embedding.weight.data = pretrained_embedding"
      ],
      "metadata": {
        "id": "7NxTZzcEi7gy"
      },
      "execution_count": 25,
      "outputs": []
    },
    {
      "cell_type": "markdown",
      "source": [
        "# **3.Loss Function and Optimizer**"
      ],
      "metadata": {
        "id": "ofeZD1gYIfoP"
      }
    },
    {
      "cell_type": "code",
      "source": [
        "lr = 5e-4\n",
        "\n",
        "optimizer = optim.Adam(model.parameters(), lr=lr)"
      ],
      "metadata": {
        "id": "7WUj5kAdi7da"
      },
      "execution_count": 26,
      "outputs": []
    },
    {
      "cell_type": "code",
      "source": [
        "criterion = nn.CrossEntropyLoss()"
      ],
      "metadata": {
        "id": "9mHGyPixi7YA"
      },
      "execution_count": 27,
      "outputs": []
    },
    {
      "cell_type": "code",
      "source": [
        "device = torch.device(\"cuda\" if torch.cuda.is_available() else \"cpu\")\n",
        "\n",
        "device"
      ],
      "metadata": {
        "id": "Ea1wI4pAisAJ",
        "colab": {
          "base_uri": "https://localhost:8080/"
        },
        "outputId": "99320275-a0d8-45dc-945d-851039f01638"
      },
      "execution_count": 28,
      "outputs": [
        {
          "output_type": "execute_result",
          "data": {
            "text/plain": [
              "device(type='cuda')"
            ]
          },
          "metadata": {},
          "execution_count": 28
        }
      ]
    },
    {
      "cell_type": "code",
      "source": [
        "model = model.to(device)\n",
        "criterion = criterion.to(device)"
      ],
      "metadata": {
        "id": "HqgQkhndkXFZ"
      },
      "execution_count": 29,
      "outputs": []
    },
    {
      "cell_type": "markdown",
      "source": [
        "# **4.Training And Evaluate Functions**"
      ],
      "metadata": {
        "id": "fQSddZV_JQKX"
      }
    },
    {
      "cell_type": "code",
      "source": [
        "def train(dataloader, model, criterion, optimizer, device):\n",
        "    model.train()\n",
        "    epoch_losses = []\n",
        "    epoch_accs = []\n",
        "    for batch in tqdm.tqdm(dataloader, desc=\"training...\"):\n",
        "        ids = batch[\"ids\"].to(device)\n",
        "        length = batch[\"length\"]\n",
        "        label = batch[\"label\"].to(device)\n",
        "        prediction = model(ids, length)\n",
        "        loss = criterion(prediction, label)\n",
        "        accuracy = get_accuracy(prediction, label)\n",
        "        optimizer.zero_grad()\n",
        "        loss.backward()\n",
        "        optimizer.step()\n",
        "        epoch_losses.append(loss.item())\n",
        "        epoch_accs.append(accuracy.item())\n",
        "    return np.mean(epoch_losses), np.mean(epoch_accs)"
      ],
      "metadata": {
        "id": "47egLPuNkXBf"
      },
      "execution_count": 30,
      "outputs": []
    },
    {
      "cell_type": "code",
      "source": [
        "def evaluate(dataloader, model, criterion, device):\n",
        "    model.eval()\n",
        "    epoch_losses = []\n",
        "    epoch_accs = []\n",
        "    with torch.no_grad():\n",
        "        for batch in tqdm.tqdm(dataloader, desc=\"evaluating...\"):\n",
        "            ids = batch[\"ids\"].to(device)\n",
        "            length = batch[\"length\"]\n",
        "            label = batch[\"label\"].to(device)\n",
        "            prediction = model(ids, length)\n",
        "            loss = criterion(prediction, label)\n",
        "            accuracy = get_accuracy(prediction, label)\n",
        "            epoch_losses.append(loss.item())\n",
        "            epoch_accs.append(accuracy.item())\n",
        "    return np.mean(epoch_losses), np.mean(epoch_accs)"
      ],
      "metadata": {
        "id": "2oqBsn99kW-F"
      },
      "execution_count": 31,
      "outputs": []
    },
    {
      "cell_type": "code",
      "source": [
        "def get_accuracy(prediction, label):\n",
        "    batch_size, _ = prediction.shape\n",
        "    predicted_classes = prediction.argmax(dim=-1)\n",
        "    correct_predictions = predicted_classes.eq(label).sum()\n",
        "    accuracy = correct_predictions / batch_size\n",
        "    return accuracy"
      ],
      "metadata": {
        "id": "YeclIsO-kW6x"
      },
      "execution_count": 32,
      "outputs": []
    },
    {
      "cell_type": "markdown",
      "source": [
        "# **5.Starting Training Loop**"
      ],
      "metadata": {
        "id": "b-tsJ8WlMLEM"
      }
    },
    {
      "cell_type": "code",
      "source": [
        "n_epochs = 3\n",
        "best_valid_loss = float(\"inf\")\n",
        "\n",
        "metrics = collections.defaultdict(list)\n",
        "\n",
        "for epoch in range(n_epochs):\n",
        "    train_loss, train_acc = train(\n",
        "        train_data_loader, model, criterion, optimizer, device\n",
        "    )\n",
        "    valid_loss, valid_acc = evaluate(valid_data_loader, model, criterion, device)\n",
        "    metrics[\"train_losses\"].append(train_loss)\n",
        "    metrics[\"train_accs\"].append(train_acc)\n",
        "    metrics[\"valid_losses\"].append(valid_loss)\n",
        "    metrics[\"valid_accs\"].append(valid_acc)\n",
        "    if valid_loss < best_valid_loss:\n",
        "        best_valid_loss = valid_loss\n",
        "        torch.save(model.state_dict(), \"lstm.pt\")\n",
        "    print(f\"epoch: {epoch}\")\n",
        "    print(f\"train_loss: {train_loss:.3f}, train_acc: {train_acc:.3f}\")\n",
        "    print(f\"valid_loss: {valid_loss:.3f}, valid_acc: {valid_acc:.3f}\")"
      ],
      "metadata": {
        "id": "BF44a4PckW3K",
        "colab": {
          "base_uri": "https://localhost:8080/"
        },
        "outputId": "c3d11d22-2588-48d0-9ba5-6489579b8f6a"
      },
      "execution_count": 33,
      "outputs": [
        {
          "output_type": "stream",
          "name": "stderr",
          "text": [
            "training...: 100%|██████████| 37/37 [00:30<00:00,  1.21it/s]\n",
            "evaluating...: 100%|██████████| 13/13 [00:03<00:00,  4.00it/s]\n"
          ]
        },
        {
          "output_type": "stream",
          "name": "stdout",
          "text": [
            "epoch: 0\n",
            "train_loss: 0.631, train_acc: 0.641\n",
            "valid_loss: 0.570, valid_acc: 0.708\n"
          ]
        },
        {
          "output_type": "stream",
          "name": "stderr",
          "text": [
            "training...: 100%|██████████| 37/37 [00:29<00:00,  1.25it/s]\n",
            "evaluating...: 100%|██████████| 13/13 [00:03<00:00,  3.86it/s]\n"
          ]
        },
        {
          "output_type": "stream",
          "name": "stdout",
          "text": [
            "epoch: 1\n",
            "train_loss: 0.514, train_acc: 0.744\n",
            "valid_loss: 0.396, valid_acc: 0.822\n"
          ]
        },
        {
          "output_type": "stream",
          "name": "stderr",
          "text": [
            "training...: 100%|██████████| 37/37 [00:30<00:00,  1.20it/s]\n",
            "evaluating...: 100%|██████████| 13/13 [00:03<00:00,  3.83it/s]\n"
          ]
        },
        {
          "output_type": "stream",
          "name": "stdout",
          "text": [
            "epoch: 2\n",
            "train_loss: 0.429, train_acc: 0.807\n",
            "valid_loss: 0.367, valid_acc: 0.831\n"
          ]
        }
      ]
    },
    {
      "cell_type": "markdown",
      "source": [
        "# **6.Visulizing Our Model**"
      ],
      "metadata": {
        "id": "QKVA1O_aQFbw"
      }
    },
    {
      "cell_type": "markdown",
      "source": [
        "**visulze training loss and val loss**"
      ],
      "metadata": {
        "id": "lsBLscYYRYpH"
      }
    },
    {
      "cell_type": "code",
      "source": [
        "fig = plt.figure(figsize=(10, 6))\n",
        "ax = fig.add_subplot(1, 1, 1)\n",
        "ax.plot(metrics[\"train_losses\"], label=\"train loss\")\n",
        "ax.plot(metrics[\"valid_losses\"], label=\"valid loss\")\n",
        "ax.set_xlabel(\"epoch\")\n",
        "ax.set_ylabel(\"loss\")\n",
        "ax.set_xticks(range(n_epochs))\n",
        "ax.legend()\n",
        "ax.grid()"
      ],
      "metadata": {
        "id": "hf037MxpkWzc",
        "colab": {
          "base_uri": "https://localhost:8080/",
          "height": 542
        },
        "outputId": "d211eea7-e22a-44c1-a836-e97ea92ad382"
      },
      "execution_count": 34,
      "outputs": [
        {
          "output_type": "display_data",
          "data": {
            "text/plain": [
              "<Figure size 1000x600 with 1 Axes>"
            ],
            "image/png": "[encoded data removed]"
          },
          "metadata": {}
        }
      ]
    },
    {
      "cell_type": "markdown",
      "source": [
        "**visulizing train accuray and valid accuracy**"
      ],
      "metadata": {
        "id": "iWkzlKp8Rebz"
      }
    },
    {
      "cell_type": "code",
      "source": [
        "fig = plt.figure(figsize=(10, 6))\n",
        "ax = fig.add_subplot(1, 1, 1)\n",
        "ax.plot(metrics[\"train_accs\"], label=\"train accuracy\")\n",
        "ax.plot(metrics[\"valid_accs\"], label=\"valid accuracy\")\n",
        "ax.set_xlabel(\"epoch\")\n",
        "ax.set_ylabel(\"accuracy\")\n",
        "ax.set_xticks(range(n_epochs))\n",
        "ax.legend()\n",
        "ax.grid()"
      ],
      "metadata": {
        "id": "Sv7_vQxDkWvC",
        "colab": {
          "base_uri": "https://localhost:8080/",
          "height": 542
        },
        "outputId": "ac514b55-a821-4fd4-ea89-0f91c5780a01"
      },
      "execution_count": 43,
      "outputs": [
        {
          "output_type": "display_data",
          "data": {
            "text/plain": [
              "<Figure size 1000x600 with 1 Axes>"
            ],
            "image/png": "[encoded data removed]"
          },
          "metadata": {}
        }
      ]
    },
    {
      "cell_type": "markdown",
      "source": [
        "# **again loading state_dict()**"
      ],
      "metadata": {
        "id": "aAgOg2aOSXAi"
      }
    },
    {
      "cell_type": "code",
      "source": [
        "model.load_state_dict(torch.load(\"lstm.pt\"))\n",
        "\n",
        "test_loss, test_acc = evaluate(test_data_loader, model, criterion, device)"
      ],
      "metadata": {
        "id": "CFfsU0jNkWoO",
        "colab": {
          "base_uri": "https://localhost:8080/"
        },
        "outputId": "125fe5bf-ba7d-4b7e-820b-e3cced1f1447"
      },
      "execution_count": 36,
      "outputs": [
        {
          "output_type": "stream",
          "name": "stderr",
          "text": [
            "evaluating...: 100%|██████████| 49/49 [00:13<00:00,  3.63it/s]\n"
          ]
        }
      ]
    },
    {
      "cell_type": "code",
      "source": [
        "print(f\"test_loss: {test_loss:.3f}, test_acc: {test_acc:.3f}\")"
      ],
      "metadata": {
        "id": "To1dJmnakWk2",
        "colab": {
          "base_uri": "https://localhost:8080/"
        },
        "outputId": "69dabfcd-f623-4693-b9a0-1088618db8a4"
      },
      "execution_count": 37,
      "outputs": [
        {
          "output_type": "stream",
          "name": "stdout",
          "text": [
            "test_loss: 0.394, test_acc: 0.822\n"
          ]
        }
      ]
    },
    {
      "cell_type": "markdown",
      "source": [
        "# **7.Testing model ,with new sentence (sentiment analysis)**"
      ],
      "metadata": {
        "id": "LVfjOisqTIJB"
      }
    },
    {
      "cell_type": "code",
      "source": [
        "def predict_sentiment(text, model, tokenizer, vocab, device):\n",
        "    tokens = tokenizer(text)\n",
        "    ids = vocab.lookup_indices(tokens)\n",
        "    length = torch.LongTensor([len(ids)])\n",
        "    tensor = torch.LongTensor(ids).unsqueeze(dim=0).to(device)\n",
        "    prediction = model(tensor, length).squeeze(dim=0)\n",
        "    probability = torch.softmax(prediction, dim=-1)\n",
        "    predicted_class = prediction.argmax(dim=-1).item()\n",
        "    predicted_probability = probability[predicted_class].item()\n",
        "    return predicted_class, predicted_probability"
      ],
      "metadata": {
        "id": "GFqpqkS0kWhg"
      },
      "execution_count": 38,
      "outputs": []
    },
    {
      "cell_type": "code",
      "source": [
        "text = \"This film is great!\"\n",
        "\n",
        "predict_sentiment(text, model, tokenizer, vocab, device)"
      ],
      "metadata": {
        "id": "i4LJcjOukWec",
        "colab": {
          "base_uri": "https://localhost:8080/"
        },
        "outputId": "123d4a49-44e2-40cf-fbe1-13c5389a425c"
      },
      "execution_count": 39,
      "outputs": [
        {
          "output_type": "execute_result",
          "data": {
            "text/plain": [
              "(1, 0.8850417733192444)"
            ]
          },
          "metadata": {},
          "execution_count": 39
        }
      ]
    },
    {
      "cell_type": "code",
      "source": [
        "text = \"This film is not terrible, it's great!\"\n",
        "\n",
        "predict_sentiment(text, model, tokenizer, vocab, device)"
      ],
      "metadata": {
        "id": "lWKIUo_1kWbE",
        "colab": {
          "base_uri": "https://localhost:8080/"
        },
        "outputId": "50e397ff-6723-453b-9cf7-8230592b2e74"
      },
      "execution_count": 40,
      "outputs": [
        {
          "output_type": "execute_result",
          "data": {
            "text/plain": [
              "(1, 0.5349324345588684)"
            ]
          },
          "metadata": {},
          "execution_count": 40
        }
      ]
    },
    {
      "cell_type": "code",
      "source": [
        "text = \"This film is terrible!\"\n",
        "\n",
        "predict_sentiment(text, model, tokenizer, vocab, device)"
      ],
      "metadata": {
        "id": "qBrq5wpmkWVz",
        "colab": {
          "base_uri": "https://localhost:8080/"
        },
        "outputId": "47e3354f-caf9-4ba0-9506-acbdac5064c0"
      },
      "execution_count": 42,
      "outputs": [
        {
          "output_type": "execute_result",
          "data": {
            "text/plain": [
              "(0, 0.7540614604949951)"
            ]
          },
          "metadata": {},
          "execution_count": 42
        }
      ]
    },
    {
      "cell_type": "code",
      "source": [],
      "metadata": {
        "id": "nAvl4Y5zkWSa"
      },
      "execution_count": 41,
      "outputs": []
    },
    {
      "cell_type": "code",
      "source": [],
      "metadata": {
        "id": "fkvIZxcXkWPp"
      },
      "execution_count": 41,
      "outputs": []
    }
  ]
}